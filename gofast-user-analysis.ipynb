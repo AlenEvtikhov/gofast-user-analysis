{
 "cells": [
  {
   "cell_type": "markdown",
   "id": "22227404",
   "metadata": {},
   "source": [
    "**Статистический анализ данных по аренде самокатов в сервисе GoFast**\n",
    "\n",
    "**Постановка задачи**\n",
    "\n",
    "Заказчиком данного исследования является сервис аренды самокатов GoFast. Цель исследования — анализ данных пользователей из нескольких городов, которые используют сервис GoFast для поездок. На основе этих данных предстоит проверить ряд гипотез о длительности поездок, пройденном расстоянии, помесячной выручке и влиянии технических обновлений. Кроме того, необходимо определить минимальное количество промокодов для достижения плана и построить график распределения, чтобы оценить открываемость push-уведомлений.\n",
    "\n",
    "**О сервисе GoFast**\n",
    "\n",
    "Пользователи могут пользоваться сервисом двумя способами:\n",
    "\n",
    "**1.Без подписки:**\n",
    "\n",
    "- Абонентская плата отсутствует\n",
    "- Стоимость одной минуты поездки — 8 рублей\n",
    "- Стоимость начала поездки — 50 рублей\n",
    "\n",
    "**2.С подпиской Ultra:**\n",
    "\n",
    "- Абонентская плата — 199 рублей в месяц\n",
    "- Стоимость одной минуты поездки — 6 рублей\n",
    "- Стоимость начала поездки — бесплатно\n",
    "\n",
    "\n",
    "**Цель исследования**\n",
    "\n",
    "Проверить следующие гипотезы:\n",
    "\n",
    "- Пользователи с подпиской проводят в поездках в среднем больше времени, чем пользователи без подписки.\n",
    "- Пользователи в среднем проезжают расстояние менее 3130 метров.\n",
    "- Помесячная выручка от пользователей с подпиской выше, чем от пользователей без подписки.\n",
    "- Количество обращений в техподдержку значительно снизилось после технического обновления сервера приложения.\n",
    "\n",
    "Дополнительно необходимо построить два распределения для маркетингового отдела:\n",
    "\n",
    "- Стратегия распространения промокодов для продления подписок.\n",
    "- Оценка вероятности открытия push-уведомлений в мобильном приложении.\n",
    "\n",
    "\n",
    "**Ход исследования**\n",
    "\n",
    "Данные будут получены из файлов:\n",
    "\n",
    "- /datasets/users_go.csv (данные о пользователях),\n",
    "\n",
    "- /datasets/rides_go.csv (данные о поездках),\n",
    "\n",
    "- /datasets/subscriptions_go.csv (данные о подписках).\n",
    "\n",
    "\n",
    "Качество данных неизвестно, поэтому первым шагом будет их обзор. После этого планируется проверка данных на наличие ошибок и оценка их влияния на исследование. На этапе предобработки будут исправлены наиболее критичные ошибки. Затем проводится исследовательский анализ для выявления основных закономерностей. Данные будут объединены и структурированы в различные датафреймы, после чего будет произведен расчет выручки. Заключительным этапом станет проверка гипотез и построение распределений для маркетингового отдела.\n",
    "\n",
    "**Этапы исследования**\n",
    "\n",
    "- Обзор данных.\n",
    "- Предобработка данных.\n",
    "- Исследовательский анализ данных.\n",
    "- Объединение и структурирование данных.\n",
    "- Подсчет выручки.\n",
    "- Проверка гипотез."
   ]
  },
  {
   "cell_type": "markdown",
   "id": "aab90707",
   "metadata": {},
   "source": [
    "<style>\n",
    "    Статистический анализ данных по аренде самокатов в сервисе GoFast\n",
    "  table {\n",
    "    font-size: 20px;\n",
    "  }\n",
    "</style>"
   ]
  },
  {
   "cell_type": "code",
   "execution_count": 1,
   "id": "72576667",
   "metadata": {},
   "outputs": [],
   "source": [
    "import pandas as pd\n",
    "import matplotlib.pyplot as plt\n",
    "import numpy as np\n",
    "from scipy import stats as st\n",
    "from scipy.stats import binom\n",
    "from IPython.display import display\n"
   ]
  },
  {
   "cell_type": "markdown",
   "id": "c42cbe00",
   "metadata": {},
   "source": [
    "#### Шаг 1. Загрузка данных"
   ]
  },
  {
   "cell_type": "code",
   "execution_count": 2,
   "id": "eff9f206",
   "metadata": {},
   "outputs": [],
   "source": [
    "users_go = pd.read_csv('/datasets/users_go.csv')\n",
    "rides_go = pd.read_csv('/datasets/rides_go.csv')\n",
    "subscriptions_go = pd.read_csv('/datasets/subscriptions_go.csv')"
   ]
  },
  {
   "cell_type": "markdown",
   "id": "db28ccd1",
   "metadata": {},
   "source": [
    "#### Шаг 1. 2 Выведем первые строки каждого набора данных. Изучим общую информацию о каждом датафрейме."
   ]
  },
  {
   "cell_type": "code",
   "execution_count": 3,
   "id": "1a637658",
   "metadata": {},
   "outputs": [
    {
     "data": {
      "text/html": [
       "<div>\n",
       "<style scoped>\n",
       "    .dataframe tbody tr th:only-of-type {\n",
       "        vertical-align: middle;\n",
       "    }\n",
       "\n",
       "    .dataframe tbody tr th {\n",
       "        vertical-align: top;\n",
       "    }\n",
       "\n",
       "    .dataframe thead th {\n",
       "        text-align: right;\n",
       "    }\n",
       "</style>\n",
       "<table border=\"1\" class=\"dataframe\">\n",
       "  <thead>\n",
       "    <tr style=\"text-align: right;\">\n",
       "      <th></th>\n",
       "      <th>user_id</th>\n",
       "      <th>name</th>\n",
       "      <th>age</th>\n",
       "      <th>city</th>\n",
       "      <th>subscription_type</th>\n",
       "    </tr>\n",
       "  </thead>\n",
       "  <tbody>\n",
       "    <tr>\n",
       "      <th>0</th>\n",
       "      <td>1</td>\n",
       "      <td>Кира</td>\n",
       "      <td>22</td>\n",
       "      <td>Тюмень</td>\n",
       "      <td>ultra</td>\n",
       "    </tr>\n",
       "    <tr>\n",
       "      <th>1</th>\n",
       "      <td>2</td>\n",
       "      <td>Станислав</td>\n",
       "      <td>31</td>\n",
       "      <td>Омск</td>\n",
       "      <td>ultra</td>\n",
       "    </tr>\n",
       "    <tr>\n",
       "      <th>2</th>\n",
       "      <td>3</td>\n",
       "      <td>Алексей</td>\n",
       "      <td>20</td>\n",
       "      <td>Москва</td>\n",
       "      <td>ultra</td>\n",
       "    </tr>\n",
       "    <tr>\n",
       "      <th>3</th>\n",
       "      <td>4</td>\n",
       "      <td>Константин</td>\n",
       "      <td>26</td>\n",
       "      <td>Ростов-на-Дону</td>\n",
       "      <td>ultra</td>\n",
       "    </tr>\n",
       "    <tr>\n",
       "      <th>4</th>\n",
       "      <td>5</td>\n",
       "      <td>Адель</td>\n",
       "      <td>28</td>\n",
       "      <td>Омск</td>\n",
       "      <td>ultra</td>\n",
       "    </tr>\n",
       "  </tbody>\n",
       "</table>\n",
       "</div>"
      ],
      "text/plain": [
       "   user_id        name  age            city subscription_type\n",
       "0        1        Кира   22          Тюмень             ultra\n",
       "1        2   Станислав   31            Омск             ultra\n",
       "2        3     Алексей   20          Москва             ultra\n",
       "3        4  Константин   26  Ростов-на-Дону             ultra\n",
       "4        5       Адель   28            Омск             ultra"
      ]
     },
     "metadata": {},
     "output_type": "display_data"
    },
    {
     "data": {
      "text/html": [
       "<div>\n",
       "<style scoped>\n",
       "    .dataframe tbody tr th:only-of-type {\n",
       "        vertical-align: middle;\n",
       "    }\n",
       "\n",
       "    .dataframe tbody tr th {\n",
       "        vertical-align: top;\n",
       "    }\n",
       "\n",
       "    .dataframe thead th {\n",
       "        text-align: right;\n",
       "    }\n",
       "</style>\n",
       "<table border=\"1\" class=\"dataframe\">\n",
       "  <thead>\n",
       "    <tr style=\"text-align: right;\">\n",
       "      <th></th>\n",
       "      <th>user_id</th>\n",
       "      <th>distance</th>\n",
       "      <th>duration</th>\n",
       "      <th>date</th>\n",
       "    </tr>\n",
       "  </thead>\n",
       "  <tbody>\n",
       "    <tr>\n",
       "      <th>0</th>\n",
       "      <td>1</td>\n",
       "      <td>4409.919140</td>\n",
       "      <td>25.599769</td>\n",
       "      <td>2021-01-01</td>\n",
       "    </tr>\n",
       "    <tr>\n",
       "      <th>1</th>\n",
       "      <td>1</td>\n",
       "      <td>2617.592153</td>\n",
       "      <td>15.816871</td>\n",
       "      <td>2021-01-18</td>\n",
       "    </tr>\n",
       "    <tr>\n",
       "      <th>2</th>\n",
       "      <td>1</td>\n",
       "      <td>754.159807</td>\n",
       "      <td>6.232113</td>\n",
       "      <td>2021-04-20</td>\n",
       "    </tr>\n",
       "    <tr>\n",
       "      <th>3</th>\n",
       "      <td>1</td>\n",
       "      <td>2694.783254</td>\n",
       "      <td>18.511000</td>\n",
       "      <td>2021-08-11</td>\n",
       "    </tr>\n",
       "    <tr>\n",
       "      <th>4</th>\n",
       "      <td>1</td>\n",
       "      <td>4028.687306</td>\n",
       "      <td>26.265803</td>\n",
       "      <td>2021-08-28</td>\n",
       "    </tr>\n",
       "  </tbody>\n",
       "</table>\n",
       "</div>"
      ],
      "text/plain": [
       "   user_id     distance   duration        date\n",
       "0        1  4409.919140  25.599769  2021-01-01\n",
       "1        1  2617.592153  15.816871  2021-01-18\n",
       "2        1   754.159807   6.232113  2021-04-20\n",
       "3        1  2694.783254  18.511000  2021-08-11\n",
       "4        1  4028.687306  26.265803  2021-08-28"
      ]
     },
     "metadata": {},
     "output_type": "display_data"
    },
    {
     "data": {
      "text/html": [
       "<div>\n",
       "<style scoped>\n",
       "    .dataframe tbody tr th:only-of-type {\n",
       "        vertical-align: middle;\n",
       "    }\n",
       "\n",
       "    .dataframe tbody tr th {\n",
       "        vertical-align: top;\n",
       "    }\n",
       "\n",
       "    .dataframe thead th {\n",
       "        text-align: right;\n",
       "    }\n",
       "</style>\n",
       "<table border=\"1\" class=\"dataframe\">\n",
       "  <thead>\n",
       "    <tr style=\"text-align: right;\">\n",
       "      <th></th>\n",
       "      <th>subscription_type</th>\n",
       "      <th>minute_price</th>\n",
       "      <th>start_ride_price</th>\n",
       "      <th>subscription_fee</th>\n",
       "    </tr>\n",
       "  </thead>\n",
       "  <tbody>\n",
       "    <tr>\n",
       "      <th>0</th>\n",
       "      <td>free</td>\n",
       "      <td>8</td>\n",
       "      <td>50</td>\n",
       "      <td>0</td>\n",
       "    </tr>\n",
       "    <tr>\n",
       "      <th>1</th>\n",
       "      <td>ultra</td>\n",
       "      <td>6</td>\n",
       "      <td>0</td>\n",
       "      <td>199</td>\n",
       "    </tr>\n",
       "  </tbody>\n",
       "</table>\n",
       "</div>"
      ],
      "text/plain": [
       "  subscription_type  minute_price  start_ride_price  subscription_fee\n",
       "0              free             8                50                 0\n",
       "1             ultra             6                 0               199"
      ]
     },
     "metadata": {},
     "output_type": "display_data"
    }
   ],
   "source": [
    "#Вывод первых строк\n",
    "display(users_go.head())\n",
    "display(rides_go.head())\n",
    "display(subscriptions_go.head())"
   ]
  },
  {
   "cell_type": "markdown",
   "id": "cfaa904d",
   "metadata": {
    "scrolled": true
   },
   "source": [
    "**Изучение инфо о датафреймах**"
   ]
  },
  {
   "cell_type": "code",
   "execution_count": 4,
   "id": "75df04d0",
   "metadata": {},
   "outputs": [
    {
     "name": "stdout",
     "output_type": "stream",
     "text": [
      "<class 'pandas.core.frame.DataFrame'>\n",
      "RangeIndex: 1565 entries, 0 to 1564\n",
      "Data columns (total 5 columns):\n",
      " #   Column             Non-Null Count  Dtype \n",
      "---  ------             --------------  ----- \n",
      " 0   user_id            1565 non-null   int64 \n",
      " 1   name               1565 non-null   object\n",
      " 2   age                1565 non-null   int64 \n",
      " 3   city               1565 non-null   object\n",
      " 4   subscription_type  1565 non-null   object\n",
      "dtypes: int64(2), object(3)\n",
      "memory usage: 61.3+ KB\n",
      "None\n"
     ]
    }
   ],
   "source": [
    "# Инфо по данным пользователей\n",
    "print(users_go.info())"
   ]
  },
  {
   "cell_type": "markdown",
   "id": "578f136c",
   "metadata": {},
   "source": [
    "Вывод: Данные о пользователях полные, без пропущенных значений. Информация включает основные атрибуты, такие как идентификатор, имя, возраст, город и тип подписки.\n"
   ]
  },
  {
   "cell_type": "code",
   "execution_count": 5,
   "id": "555d0a00",
   "metadata": {},
   "outputs": [
    {
     "name": "stdout",
     "output_type": "stream",
     "text": [
      "<class 'pandas.core.frame.DataFrame'>\n",
      "RangeIndex: 18068 entries, 0 to 18067\n",
      "Data columns (total 4 columns):\n",
      " #   Column    Non-Null Count  Dtype  \n",
      "---  ------    --------------  -----  \n",
      " 0   user_id   18068 non-null  int64  \n",
      " 1   distance  18068 non-null  float64\n",
      " 2   duration  18068 non-null  float64\n",
      " 3   date      18068 non-null  object \n",
      "dtypes: float64(2), int64(1), object(1)\n",
      "memory usage: 564.8+ KB\n",
      "None\n"
     ]
    }
   ],
   "source": [
    "# Инфо по данным по поездкам\n",
    "print(rides_go.info())"
   ]
  },
  {
   "cell_type": "markdown",
   "id": "6f8b6fad",
   "metadata": {},
   "source": [
    "Вывод: Данные о поездках содержат информацию о расстоянии, продолжительности, дате и месяце каждой поездки. Здесь также нет пропущенных значений, что позволяет сразу переходить к анализу данных."
   ]
  },
  {
   "cell_type": "code",
   "execution_count": 6,
   "id": "831e1168",
   "metadata": {},
   "outputs": [
    {
     "name": "stdout",
     "output_type": "stream",
     "text": [
      "<class 'pandas.core.frame.DataFrame'>\n",
      "RangeIndex: 2 entries, 0 to 1\n",
      "Data columns (total 4 columns):\n",
      " #   Column             Non-Null Count  Dtype \n",
      "---  ------             --------------  ----- \n",
      " 0   subscription_type  2 non-null      object\n",
      " 1   minute_price       2 non-null      int64 \n",
      " 2   start_ride_price   2 non-null      int64 \n",
      " 3   subscription_fee   2 non-null      int64 \n",
      "dtypes: int64(3), object(1)\n",
      "memory usage: 192.0+ bytes\n",
      "None\n"
     ]
    }
   ],
   "source": [
    "# Инфо по данным о подписках\n",
    "print(subscriptions_go.info())"
   ]
  },
  {
   "cell_type": "markdown",
   "id": "4ea34014",
   "metadata": {},
   "source": [
    "Вывод:\n",
    "Этот датафрейм содержит настройки стоимости поездок для двух типов подписок. Данные полные, что позволяет использовать их для расчёта выручки и сравнения типов подписок."
   ]
  },
  {
   "cell_type": "markdown",
   "id": "e95ebca7",
   "metadata": {},
   "source": [
    "#### Шаг 2. Предобработка данных"
   ]
  },
  {
   "cell_type": "markdown",
   "id": "32f0773c",
   "metadata": {},
   "source": [
    "**2.1 Приведение столбца date к типу даты pandas**"
   ]
  },
  {
   "cell_type": "code",
   "execution_count": 7,
   "id": "385863ab",
   "metadata": {},
   "outputs": [
    {
     "name": "stdout",
     "output_type": "stream",
     "text": [
      "Диапазон дат: с 2021-01-01 00:00:00 по 2021-12-30 00:00:00\n"
     ]
    }
   ],
   "source": [
    "rides_go['date'] = pd.to_datetime(rides_go['date'])\n",
    "\n",
    "min_date = rides_go['date'].min()\n",
    "max_date = rides_go['date'].max()\n",
    "\n",
    "print(f\"Диапазон дат: с {min_date} по {max_date}\")"
   ]
  },
  {
   "cell_type": "markdown",
   "id": "3f268ec9",
   "metadata": {},
   "source": [
    "**2.2 Создание нового столбца с номером месяца на основе столбца date**"
   ]
  },
  {
   "cell_type": "code",
   "execution_count": 8,
   "id": "1fc38c30",
   "metadata": {},
   "outputs": [],
   "source": [
    "rides_go['month'] = rides_go['date'].dt.month"
   ]
  },
  {
   "cell_type": "code",
   "execution_count": 9,
   "id": "4da49552",
   "metadata": {},
   "outputs": [
    {
     "name": "stdout",
     "output_type": "stream",
     "text": [
      "Минимальная продолжительность поездки: 0.5 минут\n",
      "Максимальная продолжительность поездки: 40.82396261922424 минут\n"
     ]
    }
   ],
   "source": [
    "#Проверка минимальной и максимальной продолжительности поездок\n",
    "min_duration = rides_go['duration'].min()\n",
    "max_duration = rides_go['duration'].max()\n",
    "\n",
    "print(f\"Минимальная продолжительность поездки: {min_duration} минут\")\n",
    "print(f\"Максимальная продолжительность поездки: {max_duration} минут\")"
   ]
  },
  {
   "cell_type": "code",
   "execution_count": 10,
   "id": "95a0de8b",
   "metadata": {},
   "outputs": [
    {
     "data": {
      "image/png": "[encoded data removed]",
      "text/plain": [
       "<Figure size 432x288 with 1 Axes>"
      ]
     },
     "metadata": {
      "needs_background": "light"
     },
     "output_type": "display_data"
    }
   ],
   "source": [
    "#Гистограмма распределения длительности поездок\n",
    "plt.hist(rides_go['duration'], bins=50, edgecolor='black')\n",
    "plt.title('Распределение длительности поездок')\n",
    "plt.xlabel('Длительность (минуты)')\n",
    "plt.ylabel('Количество поездок')\n",
    "plt.show()"
   ]
  },
  {
   "cell_type": "markdown",
   "id": "e1df5dac",
   "metadata": {},
   "source": [
    "**2.3 Проверка наличия пропущенных значений и дубликатов**"
   ]
  },
  {
   "cell_type": "code",
   "execution_count": 11,
   "id": "829c8d44",
   "metadata": {},
   "outputs": [
    {
     "name": "stdout",
     "output_type": "stream",
     "text": [
      "user_id              0\n",
      "name                 0\n",
      "age                  0\n",
      "city                 0\n",
      "subscription_type    0\n",
      "dtype: int64\n",
      "user_id     0\n",
      "distance    0\n",
      "duration    0\n",
      "date        0\n",
      "month       0\n",
      "dtype: int64\n",
      "subscription_type    0\n",
      "minute_price         0\n",
      "start_ride_price     0\n",
      "subscription_fee     0\n",
      "dtype: int64\n"
     ]
    }
   ],
   "source": [
    "# Проверяем пропущенные значения\n",
    "print(users_go.isnull().sum())\n",
    "print(rides_go.isnull().sum())\n",
    "print(subscriptions_go.isnull().sum())"
   ]
  },
  {
   "cell_type": "code",
   "execution_count": 12,
   "id": "a11fbea6",
   "metadata": {},
   "outputs": [
    {
     "name": "stdout",
     "output_type": "stream",
     "text": [
      "31\n",
      "0\n",
      "0\n"
     ]
    }
   ],
   "source": [
    "# Проверяем дубликаты\n",
    "print(users_go.duplicated().sum())\n",
    "print(rides_go.duplicated().sum())\n",
    "print(subscriptions_go.duplicated().sum())"
   ]
  },
  {
   "cell_type": "markdown",
   "id": "7a04a777",
   "metadata": {},
   "source": [
    "**Обработка пропусков и дубликатов**"
   ]
  },
  {
   "cell_type": "code",
   "execution_count": 13,
   "id": "d39bbcb4",
   "metadata": {},
   "outputs": [],
   "source": [
    "# Удаление дубликатов\n",
    "users_go = users_go.drop_duplicates()\n",
    "rides_go = rides_go.drop_duplicates()\n",
    "subscriptions_go = subscriptions_go.drop_duplicates()\n"
   ]
  },
  {
   "cell_type": "code",
   "execution_count": 14,
   "id": "116ac0d1",
   "metadata": {},
   "outputs": [],
   "source": [
    "# Заполнение пропусков средним значением для числовых столбцов\n",
    "rides_go.fillna(rides_go.mean(numeric_only=True), inplace=True)"
   ]
  },
  {
   "cell_type": "markdown",
   "id": "f3043ccf",
   "metadata": {},
   "source": [
    "Вывод: \n",
    "\n",
    "В ходе предобработки данных были проведены следующие шаги:\n",
    "\n",
    "1. Приведение столбца date к типу даты:\n",
    "\n",
    "- Данные о поездках (rides_go) содержат даты в диапазоне с 1 января 2021 года по 30 декабря 2021 года. Диапазон указывает, что данные охватывают почти полный год 2021.\n",
    "- В данном случае все данные относятся к одному году, поэтому создание отдельного столбца с годом не понадобилось.\n",
    "\n",
    "2. Создание нового столбца с номером месяца:\n",
    "\n",
    "- Был добавлен столбец month, содержащий номер месяца, извлеченный из столбца date. Это позволяет использовать данные для помесячного анализа.\n",
    "\n",
    "3. Анализ длительности поездок:\n",
    "\n",
    "- Минимальная продолжительность поездки составила 0.5 минут, что указывает на то, что в данных отсутствуют нулевые или отрицательные значения длительности, что могло бы указывать на ошибки.\n",
    "- Максимальная продолжительность поездки — около 40.8 минут. Гистограмма распределения длительности показала, что длительность поездок находится в адекватном диапазоне и не содержит явных аномалий.\n",
    "\n",
    "4. Проверка наличия пропущенных значений:\n",
    "\n",
    "- Пропущенные значения отсутствуют во всех трех наборах данных: users_go, rides_go и subscriptions_go. Это говорит о высоком качестве данных и об отсутствии необходимости в дальнейшей обработке пропусков.\n",
    "\n",
    "5. Проверка наличия дубликатов:\n",
    "\n",
    "- В данных о пользователях (users_go) был обнаружен 31 дубликат. Они были удалены, чтобы избежать возможного искажения результатов анализа.\n",
    "- В данных о поездках (rides_go) и подписках (subscriptions_go) дубликаты отсутствуют.\n",
    "\n",
    "6. Обработка пропусков и дубликатов:\n",
    "\n",
    "- Дубликаты в данных о пользователях успешно удалены."
   ]
  },
  {
   "cell_type": "markdown",
   "id": "212593c7",
   "metadata": {},
   "source": [
    "#### Шаг 3. Исследовательский анализ данных"
   ]
  },
  {
   "cell_type": "markdown",
   "id": "00670969",
   "metadata": {},
   "source": [
    "**3.1 Частота встречаемости городов**\n",
    "\n",
    "\n"
   ]
  },
  {
   "cell_type": "code",
   "execution_count": 15,
   "id": "606aacc5",
   "metadata": {},
   "outputs": [
    {
     "data": {
      "image/png": "[encoded data removed]",
      "text/plain": [
       "<Figure size 720x432 with 1 Axes>"
      ]
     },
     "metadata": {
      "needs_background": "light"
     },
     "output_type": "display_data"
    }
   ],
   "source": [
    "# Построим гистограмму, показывающую количество пользователей в каждом городе\n",
    "# Частота встречаемости городов\n",
    "city_count = users_go['city'].value_counts()\n",
    "\n",
    "plt.figure(figsize=(10,6))\n",
    "plt.bar(city_count.index, city_count.values, color='skyblue')\n",
    "plt.title('Частота встречаемости городов')\n",
    "plt.xticks(rotation=45)\n",
    "plt.xlabel('Город')\n",
    "plt.ylabel('Количество пользователей')\n",
    "plt.show()"
   ]
  },
  {
   "cell_type": "markdown",
   "id": "0549e4b4",
   "metadata": {},
   "source": [
    "Вывод: Основная часть пользователей сосредоточена в нескольких городах, возможно, крупных мегаполисах, что указывает на приоритетные регионы для компании."
   ]
  },
  {
   "cell_type": "markdown",
   "id": "de63f6ef",
   "metadata": {},
   "source": [
    "**3.2 Cоотношение пользователей с подпиской и без подписки**"
   ]
  },
  {
   "cell_type": "code",
   "execution_count": 16,
   "id": "372f82ab",
   "metadata": {},
   "outputs": [
    {
     "data": {
      "image/png": "[encoded data removed]",
      "text/plain": [
       "<Figure size 432x432 with 1 Axes>"
      ]
     },
     "metadata": {},
     "output_type": "display_data"
    }
   ],
   "source": [
    "# Соотношение пользователей с подпиской и без подписки\n",
    "subscription_count = users_go['subscription_type'].value_counts()\n",
    "\n",
    "plt.figure(figsize=(6,6))\n",
    "plt.pie(subscription_count, labels=subscription_count.index, autopct='%1.1f%%', startangle=90, colors=['#ff9999', '#66b3ff'])\n",
    "plt.title('Соотношение пользователей с подпиской и без подписки')\n",
    "plt.show()"
   ]
  },
  {
   "cell_type": "markdown",
   "id": "00c1f475",
   "metadata": {},
   "source": [
    "Вывод: Большая часть пользователей не имеет подписку, но при этом 45.6% ее имеет, что свидетельствует о высокой популярности платных тарифов и их выгоде для пользователей.\n"
   ]
  },
  {
   "cell_type": "markdown",
   "id": "7172847f",
   "metadata": {},
   "source": [
    "**3.3 Возраст пользователей**\n"
   ]
  },
  {
   "cell_type": "code",
   "execution_count": 17,
   "id": "eb7fcb49",
   "metadata": {},
   "outputs": [
    {
     "data": {
      "image/png": "[encoded data removed]",
      "text/plain": [
       "<Figure size 720x360 with 1 Axes>"
      ]
     },
     "metadata": {
      "needs_background": "light"
     },
     "output_type": "display_data"
    }
   ],
   "source": [
    "plt.figure(figsize=(10,5))\n",
    "plt.hist(users_go['age'], bins=15, color='lightgreen', edgecolor='black')\n",
    "plt.title('Распределение возрастов пользователей')\n",
    "plt.xlabel('Возраст')\n",
    "plt.ylabel('Количество пользователей')\n",
    "plt.show()"
   ]
  },
  {
   "cell_type": "markdown",
   "id": "99935f19",
   "metadata": {},
   "source": [
    "Вывод: Основная часть пользователей находится в возрастных диапазонах 20-30 лет, что указывает на популярность сервиса среди молодых людей."
   ]
  },
  {
   "cell_type": "markdown",
   "id": "b9e4b319",
   "metadata": {},
   "source": [
    "**3.4 Расстояние, которое пользователь преодолел за одну поездку**"
   ]
  },
  {
   "cell_type": "code",
   "execution_count": 18,
   "id": "12508e88",
   "metadata": {},
   "outputs": [
    {
     "data": {
      "image/png": "[encoded data removed]",
      "text/plain": [
       "<Figure size 720x360 with 1 Axes>"
      ]
     },
     "metadata": {
      "needs_background": "light"
     },
     "output_type": "display_data"
    }
   ],
   "source": [
    "plt.figure(figsize=(10,5))\n",
    "plt.hist(rides_go['distance'], bins=50, color='lightcoral', edgecolor='black')\n",
    "plt.title('Распределение расстояний поездок')\n",
    "plt.xlabel('Расстояние (м)')\n",
    "plt.ylabel('Количество поездок')\n",
    "plt.show()"
   ]
  },
  {
   "cell_type": "markdown",
   "id": "a74779ef",
   "metadata": {},
   "source": [
    "Вывод: Большая часть поездок составляет средние расстояния в 3100 м, что может указывать на частое использование сервиса для средних поездок."
   ]
  },
  {
   "cell_type": "markdown",
   "id": "6709c339",
   "metadata": {},
   "source": [
    "**3.5 Продолжительность поездок**"
   ]
  },
  {
   "cell_type": "code",
   "execution_count": 19,
   "id": "ef9c57c2",
   "metadata": {},
   "outputs": [
    {
     "data": {
      "image/png": "[encoded data removed]",
      "text/plain": [
       "<Figure size 720x360 with 1 Axes>"
      ]
     },
     "metadata": {
      "needs_background": "light"
     },
     "output_type": "display_data"
    }
   ],
   "source": [
    "plt.figure(figsize=(10,5))\n",
    "plt.hist(rides_go['duration'], bins=50, color='lightskyblue', edgecolor='black')\n",
    "plt.title('Распределение продолжительности поездок')\n",
    "plt.xlabel('Продолжительность (мин)')\n",
    "plt.ylabel('Количество поездок')\n",
    "plt.show()"
   ]
  },
  {
   "cell_type": "markdown",
   "id": "03b4b483",
   "metadata": {},
   "source": [
    "Вывод: Большинство поездок имеют среднюю продолжительность 15-22 минуты, что указывает на популярность краткосрочного использования сервиса для повседневных нужд."
   ]
  },
  {
   "cell_type": "code",
   "execution_count": 20,
   "id": "c0012456",
   "metadata": {},
   "outputs": [
    {
     "data": {
      "image/png": "[encoded data removed]",
      "text/plain": [
       "<Figure size 720x432 with 1 Axes>"
      ]
     },
     "metadata": {
      "needs_background": "light"
     },
     "output_type": "display_data"
    }
   ],
   "source": [
    "# Боксплот продолжительности поездок\n",
    "plt.figure(figsize=(10, 6))\n",
    "plt.boxplot(rides_go['duration'], vert=False, patch_artist=True, boxprops=dict(facecolor='lightskyblue'))\n",
    "plt.title('Boxplot продолжительности поездок')\n",
    "plt.xlabel('Продолжительность (мин)')\n",
    "plt.tight_layout()\n",
    "plt.show()"
   ]
  },
  {
   "cell_type": "markdown",
   "id": "1e51e8b8",
   "metadata": {},
   "source": [
    "Вывод: Большинство пользователей предпочитают использовать сервис GoFast для коротких поездок, что согласуется с предполагаемой целью использования самокатов — быстрое перемещение на небольшие расстояния. Боксплот показывает некоторую вариативность в продолжительности поездок и наличие выбросов, указывая на то, что в данных есть как очень короткие, так и несколько длительных поездок. Однако эти выбросы не сильно влияют на общее распределение, так как основная масса данных сосредоточена вокруг среднего значения."
   ]
  },
  {
   "cell_type": "markdown",
   "id": "4ef51331",
   "metadata": {},
   "source": [
    "#### Шаг 4. Объединение данных"
   ]
  },
  {
   "cell_type": "markdown",
   "id": "766904b1",
   "metadata": {},
   "source": [
    "4.1 Объединение данных о пользователях и поездках"
   ]
  },
  {
   "cell_type": "code",
   "execution_count": 21,
   "id": "b19a269c",
   "metadata": {},
   "outputs": [
    {
     "name": "stdout",
     "output_type": "stream",
     "text": [
      "Размер датафрейма users_go: (1534, 5)\n",
      "Размер датафрейма rides_go: (18068, 5)\n",
      "Размер датафрейма subscriptions_go: (2, 4)\n"
     ]
    }
   ],
   "source": [
    "#Размеры датасетов до объединения\n",
    "print(f\"Размер датафрейма users_go: {users_go.shape}\")\n",
    "print(f\"Размер датафрейма rides_go: {rides_go.shape}\")\n",
    "print(f\"Размер датафрейма subscriptions_go: {subscriptions_go.shape}\")"
   ]
  },
  {
   "cell_type": "code",
   "execution_count": 22,
   "id": "a427e2fe",
   "metadata": {},
   "outputs": [
    {
     "data": {
      "text/html": [
       "<div>\n",
       "<style scoped>\n",
       "    .dataframe tbody tr th:only-of-type {\n",
       "        vertical-align: middle;\n",
       "    }\n",
       "\n",
       "    .dataframe tbody tr th {\n",
       "        vertical-align: top;\n",
       "    }\n",
       "\n",
       "    .dataframe thead th {\n",
       "        text-align: right;\n",
       "    }\n",
       "</style>\n",
       "<table border=\"1\" class=\"dataframe\">\n",
       "  <thead>\n",
       "    <tr style=\"text-align: right;\">\n",
       "      <th></th>\n",
       "      <th>user_id</th>\n",
       "      <th>name</th>\n",
       "      <th>age</th>\n",
       "      <th>city</th>\n",
       "      <th>subscription_type</th>\n",
       "      <th>distance</th>\n",
       "      <th>duration</th>\n",
       "      <th>date</th>\n",
       "      <th>month</th>\n",
       "    </tr>\n",
       "  </thead>\n",
       "  <tbody>\n",
       "    <tr>\n",
       "      <th>0</th>\n",
       "      <td>1</td>\n",
       "      <td>Кира</td>\n",
       "      <td>22</td>\n",
       "      <td>Тюмень</td>\n",
       "      <td>ultra</td>\n",
       "      <td>4409.919140</td>\n",
       "      <td>25.599769</td>\n",
       "      <td>2021-01-01</td>\n",
       "      <td>1</td>\n",
       "    </tr>\n",
       "    <tr>\n",
       "      <th>1</th>\n",
       "      <td>1</td>\n",
       "      <td>Кира</td>\n",
       "      <td>22</td>\n",
       "      <td>Тюмень</td>\n",
       "      <td>ultra</td>\n",
       "      <td>2617.592153</td>\n",
       "      <td>15.816871</td>\n",
       "      <td>2021-01-18</td>\n",
       "      <td>1</td>\n",
       "    </tr>\n",
       "    <tr>\n",
       "      <th>2</th>\n",
       "      <td>1</td>\n",
       "      <td>Кира</td>\n",
       "      <td>22</td>\n",
       "      <td>Тюмень</td>\n",
       "      <td>ultra</td>\n",
       "      <td>754.159807</td>\n",
       "      <td>6.232113</td>\n",
       "      <td>2021-04-20</td>\n",
       "      <td>4</td>\n",
       "    </tr>\n",
       "    <tr>\n",
       "      <th>3</th>\n",
       "      <td>1</td>\n",
       "      <td>Кира</td>\n",
       "      <td>22</td>\n",
       "      <td>Тюмень</td>\n",
       "      <td>ultra</td>\n",
       "      <td>2694.783254</td>\n",
       "      <td>18.511000</td>\n",
       "      <td>2021-08-11</td>\n",
       "      <td>8</td>\n",
       "    </tr>\n",
       "    <tr>\n",
       "      <th>4</th>\n",
       "      <td>1</td>\n",
       "      <td>Кира</td>\n",
       "      <td>22</td>\n",
       "      <td>Тюмень</td>\n",
       "      <td>ultra</td>\n",
       "      <td>4028.687306</td>\n",
       "      <td>26.265803</td>\n",
       "      <td>2021-08-28</td>\n",
       "      <td>8</td>\n",
       "    </tr>\n",
       "  </tbody>\n",
       "</table>\n",
       "</div>"
      ],
      "text/plain": [
       "   user_id  name  age    city subscription_type     distance   duration  \\\n",
       "0        1  Кира   22  Тюмень             ultra  4409.919140  25.599769   \n",
       "1        1  Кира   22  Тюмень             ultra  2617.592153  15.816871   \n",
       "2        1  Кира   22  Тюмень             ultra   754.159807   6.232113   \n",
       "3        1  Кира   22  Тюмень             ultra  2694.783254  18.511000   \n",
       "4        1  Кира   22  Тюмень             ultra  4028.687306  26.265803   \n",
       "\n",
       "        date  month  \n",
       "0 2021-01-01      1  \n",
       "1 2021-01-18      1  \n",
       "2 2021-04-20      4  \n",
       "3 2021-08-11      8  \n",
       "4 2021-08-28      8  "
      ]
     },
     "execution_count": 22,
     "metadata": {},
     "output_type": "execute_result"
    }
   ],
   "source": [
    "merged_df = pd.merge(users_go, rides_go, on='user_id', how='left')\n",
    "merged_df.head(5)"
   ]
  },
  {
   "cell_type": "markdown",
   "id": "e824b19a",
   "metadata": {},
   "source": [
    "Объединим полученный датафрейм с данными о подписках"
   ]
  },
  {
   "cell_type": "code",
   "execution_count": 23,
   "id": "0f118877",
   "metadata": {},
   "outputs": [
    {
     "name": "stdout",
     "output_type": "stream",
     "text": [
      "Размер датафрейма final_df (после объединения с subscriptions_go): (18068, 12)\n"
     ]
    }
   ],
   "source": [
    "final_df = pd.merge(merged_df, subscriptions_go, on='subscription_type', how='left')\n",
    "final_df.head(5)\n",
    "print(f\"Размер датафрейма final_df (после объединения с subscriptions_go): {final_df.shape}\")"
   ]
  },
  {
   "cell_type": "markdown",
   "id": "c8a405cb",
   "metadata": {},
   "source": [
    "4.2 Создадим ещё два датафрейма из датафрейма, созданного на этапе 4.1"
   ]
  },
  {
   "cell_type": "code",
   "execution_count": 24,
   "id": "1f0533c7",
   "metadata": {},
   "outputs": [
    {
     "data": {
      "text/html": [
       "<div>\n",
       "<style scoped>\n",
       "    .dataframe tbody tr th:only-of-type {\n",
       "        vertical-align: middle;\n",
       "    }\n",
       "\n",
       "    .dataframe tbody tr th {\n",
       "        vertical-align: top;\n",
       "    }\n",
       "\n",
       "    .dataframe thead th {\n",
       "        text-align: right;\n",
       "    }\n",
       "</style>\n",
       "<table border=\"1\" class=\"dataframe\">\n",
       "  <thead>\n",
       "    <tr style=\"text-align: right;\">\n",
       "      <th></th>\n",
       "      <th>user_id</th>\n",
       "      <th>name</th>\n",
       "      <th>age</th>\n",
       "      <th>city</th>\n",
       "      <th>subscription_type</th>\n",
       "      <th>distance</th>\n",
       "      <th>duration</th>\n",
       "      <th>date</th>\n",
       "      <th>month</th>\n",
       "      <th>minute_price</th>\n",
       "      <th>start_ride_price</th>\n",
       "      <th>subscription_fee</th>\n",
       "    </tr>\n",
       "  </thead>\n",
       "  <tbody>\n",
       "    <tr>\n",
       "      <th>6500</th>\n",
       "      <td>700</td>\n",
       "      <td>Айдар</td>\n",
       "      <td>22</td>\n",
       "      <td>Омск</td>\n",
       "      <td>free</td>\n",
       "      <td>2515.690719</td>\n",
       "      <td>14.944286</td>\n",
       "      <td>2021-01-02</td>\n",
       "      <td>1</td>\n",
       "      <td>8</td>\n",
       "      <td>50</td>\n",
       "      <td>0</td>\n",
       "    </tr>\n",
       "    <tr>\n",
       "      <th>6501</th>\n",
       "      <td>700</td>\n",
       "      <td>Айдар</td>\n",
       "      <td>22</td>\n",
       "      <td>Омск</td>\n",
       "      <td>free</td>\n",
       "      <td>846.932642</td>\n",
       "      <td>16.234663</td>\n",
       "      <td>2021-02-01</td>\n",
       "      <td>2</td>\n",
       "      <td>8</td>\n",
       "      <td>50</td>\n",
       "      <td>0</td>\n",
       "    </tr>\n",
       "    <tr>\n",
       "      <th>6502</th>\n",
       "      <td>700</td>\n",
       "      <td>Айдар</td>\n",
       "      <td>22</td>\n",
       "      <td>Омск</td>\n",
       "      <td>free</td>\n",
       "      <td>4004.434142</td>\n",
       "      <td>20.016628</td>\n",
       "      <td>2021-02-04</td>\n",
       "      <td>2</td>\n",
       "      <td>8</td>\n",
       "      <td>50</td>\n",
       "      <td>0</td>\n",
       "    </tr>\n",
       "    <tr>\n",
       "      <th>6503</th>\n",
       "      <td>700</td>\n",
       "      <td>Айдар</td>\n",
       "      <td>22</td>\n",
       "      <td>Омск</td>\n",
       "      <td>free</td>\n",
       "      <td>1205.911290</td>\n",
       "      <td>9.782872</td>\n",
       "      <td>2021-02-10</td>\n",
       "      <td>2</td>\n",
       "      <td>8</td>\n",
       "      <td>50</td>\n",
       "      <td>0</td>\n",
       "    </tr>\n",
       "    <tr>\n",
       "      <th>6504</th>\n",
       "      <td>700</td>\n",
       "      <td>Айдар</td>\n",
       "      <td>22</td>\n",
       "      <td>Омск</td>\n",
       "      <td>free</td>\n",
       "      <td>3047.379435</td>\n",
       "      <td>17.427673</td>\n",
       "      <td>2021-02-14</td>\n",
       "      <td>2</td>\n",
       "      <td>8</td>\n",
       "      <td>50</td>\n",
       "      <td>0</td>\n",
       "    </tr>\n",
       "  </tbody>\n",
       "</table>\n",
       "</div>"
      ],
      "text/plain": [
       "      user_id   name  age  city subscription_type     distance   duration  \\\n",
       "6500      700  Айдар   22  Омск              free  2515.690719  14.944286   \n",
       "6501      700  Айдар   22  Омск              free   846.932642  16.234663   \n",
       "6502      700  Айдар   22  Омск              free  4004.434142  20.016628   \n",
       "6503      700  Айдар   22  Омск              free  1205.911290   9.782872   \n",
       "6504      700  Айдар   22  Омск              free  3047.379435  17.427673   \n",
       "\n",
       "           date  month  minute_price  start_ride_price  subscription_fee  \n",
       "6500 2021-01-02      1             8                50                 0  \n",
       "6501 2021-02-01      2             8                50                 0  \n",
       "6502 2021-02-04      2             8                50                 0  \n",
       "6503 2021-02-10      2             8                50                 0  \n",
       "6504 2021-02-14      2             8                50                 0  "
      ]
     },
     "metadata": {},
     "output_type": "display_data"
    },
    {
     "data": {
      "text/html": [
       "<div>\n",
       "<style scoped>\n",
       "    .dataframe tbody tr th:only-of-type {\n",
       "        vertical-align: middle;\n",
       "    }\n",
       "\n",
       "    .dataframe tbody tr th {\n",
       "        vertical-align: top;\n",
       "    }\n",
       "\n",
       "    .dataframe thead th {\n",
       "        text-align: right;\n",
       "    }\n",
       "</style>\n",
       "<table border=\"1\" class=\"dataframe\">\n",
       "  <thead>\n",
       "    <tr style=\"text-align: right;\">\n",
       "      <th></th>\n",
       "      <th>user_id</th>\n",
       "      <th>name</th>\n",
       "      <th>age</th>\n",
       "      <th>city</th>\n",
       "      <th>subscription_type</th>\n",
       "      <th>distance</th>\n",
       "      <th>duration</th>\n",
       "      <th>date</th>\n",
       "      <th>month</th>\n",
       "      <th>minute_price</th>\n",
       "      <th>start_ride_price</th>\n",
       "      <th>subscription_fee</th>\n",
       "    </tr>\n",
       "  </thead>\n",
       "  <tbody>\n",
       "    <tr>\n",
       "      <th>0</th>\n",
       "      <td>1</td>\n",
       "      <td>Кира</td>\n",
       "      <td>22</td>\n",
       "      <td>Тюмень</td>\n",
       "      <td>ultra</td>\n",
       "      <td>4409.919140</td>\n",
       "      <td>25.599769</td>\n",
       "      <td>2021-01-01</td>\n",
       "      <td>1</td>\n",
       "      <td>6</td>\n",
       "      <td>0</td>\n",
       "      <td>199</td>\n",
       "    </tr>\n",
       "    <tr>\n",
       "      <th>1</th>\n",
       "      <td>1</td>\n",
       "      <td>Кира</td>\n",
       "      <td>22</td>\n",
       "      <td>Тюмень</td>\n",
       "      <td>ultra</td>\n",
       "      <td>2617.592153</td>\n",
       "      <td>15.816871</td>\n",
       "      <td>2021-01-18</td>\n",
       "      <td>1</td>\n",
       "      <td>6</td>\n",
       "      <td>0</td>\n",
       "      <td>199</td>\n",
       "    </tr>\n",
       "    <tr>\n",
       "      <th>2</th>\n",
       "      <td>1</td>\n",
       "      <td>Кира</td>\n",
       "      <td>22</td>\n",
       "      <td>Тюмень</td>\n",
       "      <td>ultra</td>\n",
       "      <td>754.159807</td>\n",
       "      <td>6.232113</td>\n",
       "      <td>2021-04-20</td>\n",
       "      <td>4</td>\n",
       "      <td>6</td>\n",
       "      <td>0</td>\n",
       "      <td>199</td>\n",
       "    </tr>\n",
       "    <tr>\n",
       "      <th>3</th>\n",
       "      <td>1</td>\n",
       "      <td>Кира</td>\n",
       "      <td>22</td>\n",
       "      <td>Тюмень</td>\n",
       "      <td>ultra</td>\n",
       "      <td>2694.783254</td>\n",
       "      <td>18.511000</td>\n",
       "      <td>2021-08-11</td>\n",
       "      <td>8</td>\n",
       "      <td>6</td>\n",
       "      <td>0</td>\n",
       "      <td>199</td>\n",
       "    </tr>\n",
       "    <tr>\n",
       "      <th>4</th>\n",
       "      <td>1</td>\n",
       "      <td>Кира</td>\n",
       "      <td>22</td>\n",
       "      <td>Тюмень</td>\n",
       "      <td>ultra</td>\n",
       "      <td>4028.687306</td>\n",
       "      <td>26.265803</td>\n",
       "      <td>2021-08-28</td>\n",
       "      <td>8</td>\n",
       "      <td>6</td>\n",
       "      <td>0</td>\n",
       "      <td>199</td>\n",
       "    </tr>\n",
       "  </tbody>\n",
       "</table>\n",
       "</div>"
      ],
      "text/plain": [
       "   user_id  name  age    city subscription_type     distance   duration  \\\n",
       "0        1  Кира   22  Тюмень             ultra  4409.919140  25.599769   \n",
       "1        1  Кира   22  Тюмень             ultra  2617.592153  15.816871   \n",
       "2        1  Кира   22  Тюмень             ultra   754.159807   6.232113   \n",
       "3        1  Кира   22  Тюмень             ultra  2694.783254  18.511000   \n",
       "4        1  Кира   22  Тюмень             ultra  4028.687306  26.265803   \n",
       "\n",
       "        date  month  minute_price  start_ride_price  subscription_fee  \n",
       "0 2021-01-01      1             6                 0               199  \n",
       "1 2021-01-18      1             6                 0               199  \n",
       "2 2021-04-20      4             6                 0               199  \n",
       "3 2021-08-11      8             6                 0               199  \n",
       "4 2021-08-28      8             6                 0               199  "
      ]
     },
     "execution_count": 24,
     "metadata": {},
     "output_type": "execute_result"
    }
   ],
   "source": [
    "#Датафрейм с пользователями без подписки (free)\n",
    "no_subscription_df = final_df[final_df['subscription_type'] == 'free']\n",
    "display(no_subscription_df.head(5))\n",
    "\n",
    "#Датафрейм с пользователями с подпиской (ultra)\n",
    "with_subscription_df = final_df[final_df['subscription_type'] == 'ultra']\n",
    "with_subscription_df.head(5)"
   ]
  },
  {
   "cell_type": "markdown",
   "id": "8be13c59",
   "metadata": {},
   "source": [
    "4.3 Визуализируем информацию о расстоянии и времени поездок для пользователей обеих категорий.\n"
   ]
  },
  {
   "cell_type": "code",
   "execution_count": 25,
   "id": "f068e8f6",
   "metadata": {},
   "outputs": [
    {
     "data": {
      "image/png": "[encoded data removed]",
      "text/plain": [
       "<Figure size 1008x432 with 1 Axes>"
      ]
     },
     "metadata": {
      "needs_background": "light"
     },
     "output_type": "display_data"
    }
   ],
   "source": [
    "#Визуализация данных о расстоянии поездок\n",
    "plt.figure(figsize=(14, 6))\n",
    "plt.hist(no_subscription_df['distance'], bins=30, color='lightcoral', alpha=0.5, label='Без подписки', edgecolor='black')\n",
    "plt.hist(with_subscription_df['distance'], bins=30, color='blue', alpha=0.5, label='С подпиской', edgecolor='black')\n",
    "plt.title('Распределение расстояния поездок')\n",
    "plt.xlabel('Расстояние (м)')\n",
    "plt.ylabel('Количество поездок')\n",
    "plt.legend()\n",
    "plt.show()\n"
   ]
  },
  {
   "cell_type": "code",
   "execution_count": 26,
   "id": "a8f9cd06",
   "metadata": {},
   "outputs": [
    {
     "data": {
      "text/plain": [
       "count    11568.00\n",
       "mean      3045.50\n",
       "std       1246.17\n",
       "min          0.86\n",
       "25%       2366.56\n",
       "50%       3114.65\n",
       "75%       3905.70\n",
       "max       7211.01\n",
       "Name: distance, dtype: float64"
      ]
     },
     "execution_count": 26,
     "metadata": {},
     "output_type": "execute_result"
    }
   ],
   "source": [
    "#Описание расстояния без подписки\n",
    "no_subscription_df['distance'].describe().round(2)"
   ]
  },
  {
   "cell_type": "code",
   "execution_count": 27,
   "id": "9be1e692",
   "metadata": {},
   "outputs": [
    {
     "data": {
      "text/plain": [
       "count    6500.00\n",
       "mean     3115.45\n",
       "std       836.90\n",
       "min       244.21\n",
       "25%      2785.44\n",
       "50%      3148.64\n",
       "75%      3560.57\n",
       "max      5699.77\n",
       "Name: distance, dtype: float64"
      ]
     },
     "execution_count": 27,
     "metadata": {},
     "output_type": "execute_result"
    }
   ],
   "source": [
    "#Описание расстояния с подпиской\n",
    "with_subscription_df['distance'].describe().round(2)"
   ]
  },
  {
   "cell_type": "markdown",
   "id": "f28b2b4f",
   "metadata": {},
   "source": [
    "Вывод:\n",
    "Средняя продолжительность расстояний поездок пользователей с подпиской немного выше (3115.45 м) по сравнению с пользователями без подписки (3045.50 м), но разница незначительна.\n",
    "Распределение расстояний у пользователей без подписки имеет большую дисперсию, так как стандартное отклонение (1246.17 м) больше, чем у пользователей с подпиской (836.90 м). Это указывает на более разнообразные по длине поездки у пользователей без подписки.\n",
    "Максимальное расстояние для пользователей без подписки (7211.01 м) заметно выше, чем у пользователей с подпиской (5699.77 м)."
   ]
  },
  {
   "cell_type": "code",
   "execution_count": 28,
   "id": "9185d633",
   "metadata": {},
   "outputs": [
    {
     "data": {
      "image/png": "[encoded data removed]",
      "text/plain": [
       "<Figure size 1008x432 with 1 Axes>"
      ]
     },
     "metadata": {
      "needs_background": "light"
     },
     "output_type": "display_data"
    }
   ],
   "source": [
    "# Визуализация данных о времени поездок\n",
    "plt.figure(figsize=(14, 6))\n",
    "plt.hist(no_subscription_df['duration'], bins=30, color='blue', alpha=0.5, label='Без подписки', edgecolor='black')\n",
    "plt.hist(with_subscription_df['duration'], bins=30, color='green', alpha=0.5, label='С подпиской', edgecolor='black')\n",
    "plt.title('Распределение времени поездок')\n",
    "plt.xlabel('Продолжительность (мин)')\n",
    "plt.ylabel('Количество поездок')\n",
    "plt.legend()\n",
    "plt.show()"
   ]
  },
  {
   "cell_type": "code",
   "execution_count": 29,
   "id": "6bf6a942",
   "metadata": {},
   "outputs": [
    {
     "data": {
      "text/plain": [
       "count    11568.000000\n",
       "mean      3045.495284\n",
       "std       1246.173810\n",
       "min          0.860000\n",
       "25%       2366.560000\n",
       "50%       3114.650000\n",
       "75%       3905.695000\n",
       "max       7211.010000\n",
       "Name: distance, dtype: float64"
      ]
     },
     "execution_count": 29,
     "metadata": {},
     "output_type": "execute_result"
    }
   ],
   "source": [
    "#Описание данных о продолжнительности поездок без подписки\n",
    "no_subscription_df['distance'].round(2).describe()"
   ]
  },
  {
   "cell_type": "code",
   "execution_count": 30,
   "id": "b0eb5098",
   "metadata": {},
   "outputs": [
    {
     "data": {
      "text/plain": [
       "count    6500.000000\n",
       "mean     3115.445431\n",
       "std       836.895369\n",
       "min       244.210000\n",
       "25%      2785.447500\n",
       "50%      3148.640000\n",
       "75%      3560.577500\n",
       "max      5699.770000\n",
       "Name: distance, dtype: float64"
      ]
     },
     "execution_count": 30,
     "metadata": {},
     "output_type": "execute_result"
    }
   ],
   "source": [
    "#Описание данных о продолжнительности поездок с подпиской\n",
    "with_subscription_df['distance'].round(2).describe()"
   ]
  },
  {
   "cell_type": "markdown",
   "id": "e517e519",
   "metadata": {},
   "source": [
    "Вывод:\n",
    "Средняя продолжительность поездок для пользователей с подпиской несколько выше (3115,44), чем у пользователей без подписки(3045,49). Это говорит о том, что пользователи с подпиской не только проезжают большие расстояния, но и тратят больше времени на поездки.\n",
    "Более детальное сравнение статистики времени позволит уточнить, насколько значимы эти различия, однако, визуализация уже показывает тенденцию к более длительным поездкам среди подписчиков."
   ]
  },
  {
   "cell_type": "markdown",
   "id": "b7b9cd41",
   "metadata": {},
   "source": [
    "Общий вывод:\n",
    "Визуализация и описательная статистика свидетельствуют о том, что пользователи с подпиской склонны к более длительным и протяжённым поездкам по сравнению с пользователями без подписки.\n",
    "Несмотря на то, что распределения расстояний и времени поездок для обеих групп перекрываются, пользователи с подпиской имеют тенденцию к более высокому среднему расстоянию и времени.\n",
    "Чтобы подтвердить эти наблюдения статистически, стоит дополнительно провести тесты значимости."
   ]
  },
  {
   "cell_type": "markdown",
   "id": "fb1a70f8",
   "metadata": {},
   "source": [
    "#### Шаг 5. Подсчёт выручки"
   ]
  },
  {
   "cell_type": "code",
   "execution_count": 31,
   "id": "a8f2b91c",
   "metadata": {},
   "outputs": [
    {
     "name": "stdout",
     "output_type": "stream",
     "text": [
      "user_id              0\n",
      "name                 0\n",
      "age                  0\n",
      "city                 0\n",
      "subscription_type    0\n",
      "distance             0\n",
      "duration             0\n",
      "date                 0\n",
      "month                0\n",
      "minute_price         0\n",
      "start_ride_price     0\n",
      "subscription_fee     0\n",
      "dtype: int64\n"
     ]
    }
   ],
   "source": [
    "# Проверка на пропуски в final_df\n",
    "print(final_df.isnull().sum())\n",
    "\n",
    "#Обработка пропусков, при наличии\n",
    "final_df.fillna({\n",
    "    'distance': 0,\n",
    "    'duration': 0,\n",
    "    'subscription_type': 'free',\n",
    "    'minute_price': 0,\n",
    "    'start_ride_price': 0,\n",
    "    'subscription_fee': 0\n",
    "}, inplace=True)\n"
   ]
  },
  {
   "cell_type": "markdown",
   "id": "76488c65",
   "metadata": {},
   "source": [
    "5.1 Агрегируем данные о поездках"
   ]
  },
  {
   "cell_type": "code",
   "execution_count": 32,
   "id": "9f3ad716",
   "metadata": {},
   "outputs": [
    {
     "data": {
      "text/html": [
       "<div>\n",
       "<style scoped>\n",
       "    .dataframe tbody tr th:only-of-type {\n",
       "        vertical-align: middle;\n",
       "    }\n",
       "\n",
       "    .dataframe tbody tr th {\n",
       "        vertical-align: top;\n",
       "    }\n",
       "\n",
       "    .dataframe thead th {\n",
       "        text-align: right;\n",
       "    }\n",
       "</style>\n",
       "<table border=\"1\" class=\"dataframe\">\n",
       "  <thead>\n",
       "    <tr style=\"text-align: right;\">\n",
       "      <th></th>\n",
       "      <th>user_id</th>\n",
       "      <th>name</th>\n",
       "      <th>age</th>\n",
       "      <th>city</th>\n",
       "      <th>subscription_type</th>\n",
       "      <th>distance</th>\n",
       "      <th>duration</th>\n",
       "      <th>date</th>\n",
       "      <th>month</th>\n",
       "      <th>minute_price</th>\n",
       "      <th>start_ride_price</th>\n",
       "      <th>subscription_fee</th>\n",
       "    </tr>\n",
       "  </thead>\n",
       "  <tbody>\n",
       "    <tr>\n",
       "      <th>0</th>\n",
       "      <td>1</td>\n",
       "      <td>Кира</td>\n",
       "      <td>22</td>\n",
       "      <td>Тюмень</td>\n",
       "      <td>ultra</td>\n",
       "      <td>4409.919140</td>\n",
       "      <td>26</td>\n",
       "      <td>2021-01-01</td>\n",
       "      <td>1</td>\n",
       "      <td>6</td>\n",
       "      <td>0</td>\n",
       "      <td>199</td>\n",
       "    </tr>\n",
       "    <tr>\n",
       "      <th>1</th>\n",
       "      <td>1</td>\n",
       "      <td>Кира</td>\n",
       "      <td>22</td>\n",
       "      <td>Тюмень</td>\n",
       "      <td>ultra</td>\n",
       "      <td>2617.592153</td>\n",
       "      <td>16</td>\n",
       "      <td>2021-01-18</td>\n",
       "      <td>1</td>\n",
       "      <td>6</td>\n",
       "      <td>0</td>\n",
       "      <td>199</td>\n",
       "    </tr>\n",
       "    <tr>\n",
       "      <th>2</th>\n",
       "      <td>1</td>\n",
       "      <td>Кира</td>\n",
       "      <td>22</td>\n",
       "      <td>Тюмень</td>\n",
       "      <td>ultra</td>\n",
       "      <td>754.159807</td>\n",
       "      <td>7</td>\n",
       "      <td>2021-04-20</td>\n",
       "      <td>4</td>\n",
       "      <td>6</td>\n",
       "      <td>0</td>\n",
       "      <td>199</td>\n",
       "    </tr>\n",
       "    <tr>\n",
       "      <th>3</th>\n",
       "      <td>1</td>\n",
       "      <td>Кира</td>\n",
       "      <td>22</td>\n",
       "      <td>Тюмень</td>\n",
       "      <td>ultra</td>\n",
       "      <td>2694.783254</td>\n",
       "      <td>19</td>\n",
       "      <td>2021-08-11</td>\n",
       "      <td>8</td>\n",
       "      <td>6</td>\n",
       "      <td>0</td>\n",
       "      <td>199</td>\n",
       "    </tr>\n",
       "    <tr>\n",
       "      <th>4</th>\n",
       "      <td>1</td>\n",
       "      <td>Кира</td>\n",
       "      <td>22</td>\n",
       "      <td>Тюмень</td>\n",
       "      <td>ultra</td>\n",
       "      <td>4028.687306</td>\n",
       "      <td>27</td>\n",
       "      <td>2021-08-28</td>\n",
       "      <td>8</td>\n",
       "      <td>6</td>\n",
       "      <td>0</td>\n",
       "      <td>199</td>\n",
       "    </tr>\n",
       "  </tbody>\n",
       "</table>\n",
       "</div>"
      ],
      "text/plain": [
       "   user_id  name  age    city subscription_type     distance  duration  \\\n",
       "0        1  Кира   22  Тюмень             ultra  4409.919140        26   \n",
       "1        1  Кира   22  Тюмень             ultra  2617.592153        16   \n",
       "2        1  Кира   22  Тюмень             ultra   754.159807         7   \n",
       "3        1  Кира   22  Тюмень             ultra  2694.783254        19   \n",
       "4        1  Кира   22  Тюмень             ultra  4028.687306        27   \n",
       "\n",
       "        date  month  minute_price  start_ride_price  subscription_fee  \n",
       "0 2021-01-01      1             6                 0               199  \n",
       "1 2021-01-18      1             6                 0               199  \n",
       "2 2021-04-20      4             6                 0               199  \n",
       "3 2021-08-11      8             6                 0               199  \n",
       "4 2021-08-28      8             6                 0               199  "
      ]
     },
     "execution_count": 32,
     "metadata": {},
     "output_type": "execute_result"
    }
   ],
   "source": [
    "#Округлим продолжительность поездок до целого числа\n",
    "final_df['duration'] = np.ceil(final_df['duration']).astype(int)\n",
    "final_df.head()"
   ]
  },
  {
   "cell_type": "code",
   "execution_count": 33,
   "id": "10527915",
   "metadata": {},
   "outputs": [],
   "source": [
    "monthly_data = final_df.groupby(['user_id', 'month']).agg(\n",
    "    total_distance=('distance', 'sum'),\n",
    "    trip_count=('distance', 'size'),\n",
    "    total_duration=('duration', 'sum')\n",
    ").reset_index()"
   ]
  },
  {
   "cell_type": "markdown",
   "id": "635b23b8",
   "metadata": {},
   "source": [
    "5.2 Рассчитем ежемесячный доход"
   ]
  },
  {
   "cell_type": "code",
   "execution_count": 34,
   "id": "9885a87e",
   "metadata": {},
   "outputs": [],
   "source": [
    "#Объединим агрегированные данные с данными о подписках\n",
    "monthly_data = final_df.groupby(['user_id', 'month']).agg(\n",
    "    total_distance=('distance', 'sum'),\n",
    "    trip_count=('distance', 'size'),\n",
    "    total_duration=('duration', 'sum')\n",
    ").reset_index()"
   ]
  },
  {
   "cell_type": "code",
   "execution_count": 35,
   "id": "37553022",
   "metadata": {},
   "outputs": [],
   "source": [
    "# Объединим subscription_type с monthly_data\n",
    "user_subscriptions = final_df[['user_id', 'subscription_type']].drop_duplicates()\n",
    "monthly_data = pd.merge(monthly_data, user_subscriptions, on='user_id', how='left')\n",
    "monthly_data = pd.merge(monthly_data, subscriptions_go, on='subscription_type', how='left')"
   ]
  },
  {
   "cell_type": "code",
   "execution_count": 36,
   "id": "b8e30ab1",
   "metadata": {},
   "outputs": [],
   "source": [
    "#Определим функцию для подсчета ежемесячной выручки (с подпиской и без)\n",
    "def calculate_revenue(row):\n",
    "    if row['subscription_type'] == 'free':\n",
    "        return (row['trip_count'] * row['start_ride_price']) + (row['total_duration'] * row['minute_price'])\n",
    "    else:\n",
    "        return (row['trip_count'] * row['start_ride_price']) + (row['total_duration'] * row['minute_price']) + row['subscription_fee']"
   ]
  },
  {
   "cell_type": "code",
   "execution_count": 37,
   "id": "66eb8cf0",
   "metadata": {
    "scrolled": true
   },
   "outputs": [
    {
     "name": "stdout",
     "output_type": "stream",
     "text": [
      "   user_id  month  total_distance  trip_count  total_duration  \\\n",
      "0        1      1     7027.511294           2              42   \n",
      "1        1      4      754.159807           1               7   \n",
      "2        1      8     6723.470560           2              46   \n",
      "3        1     10     5809.911100           2              32   \n",
      "4        1     11     7003.499363           3              56   \n",
      "\n",
      "  subscription_type  minute_price  start_ride_price  subscription_fee  \\\n",
      "0             ultra             6                 0               199   \n",
      "1             ultra             6                 0               199   \n",
      "2             ultra             6                 0               199   \n",
      "3             ultra             6                 0               199   \n",
      "4             ultra             6                 0               199   \n",
      "\n",
      "   monthly_revenue  \n",
      "0              451  \n",
      "1              241  \n",
      "2              475  \n",
      "3              391  \n",
      "4              535  \n",
      "Выручка за год: 3878641 руб.\n"
     ]
    }
   ],
   "source": [
    "#Расчитаем ежемесячную выручку для каждого пользователя\n",
    "monthly_data['monthly_revenue'] = monthly_data.apply(calculate_revenue, axis=1)\n",
    "print(monthly_data.head())\n",
    "print ('Выручка за год:',monthly_data['monthly_revenue'].sum(), 'руб.')"
   ]
  },
  {
   "cell_type": "markdown",
   "id": "61ea1bdb",
   "metadata": {},
   "source": [
    "Вывод:\n",
    "Выручка от аренды самокатов за год составила 3 878 641.0 руб."
   ]
  },
  {
   "cell_type": "markdown",
   "id": "41545ac0",
   "metadata": {},
   "source": [
    "#### Шаг 6. Проверка гипотез"
   ]
  },
  {
   "cell_type": "markdown",
   "id": "f3628323",
   "metadata": {},
   "source": [
    "**Тратят ли подписчики больше времени на поездки?**"
   ]
  },
  {
   "cell_type": "markdown",
   "id": "594a6127",
   "metadata": {},
   "source": [
    "Необходимо проверить, тратят ли пользователи с подпиской (ultra) больше времени на поездки по сравнению с пользователями без подписки (free). Это сравнение средних значений двух независимых групп, поэтому следует сделать t-тест независимых выборок.\n",
    "\n",
    "**Нулевая гипотеза (H0):** средняя продолжительность поездок для пользователей с подпиской равна средней продолжительности поездок для пользователей без подписки.\n",
    "\n",
    "**Альтернативная гипотеза (H1):** средняя продолжительность поездок для пользователей с подпиской отличается от средней продолжительности поездок для пользователей без подписки."
   ]
  },
  {
   "cell_type": "code",
   "execution_count": 38,
   "id": "8b0b8c69",
   "metadata": {},
   "outputs": [
    {
     "name": "stdout",
     "output_type": "stream",
     "text": [
      "P-значение: 1.2804098316645618e-34\n",
      "Отвергаем нулевую гипотезу: пользователи с подпиской тратят больше времени на поездки.\n"
     ]
    }
   ],
   "source": [
    "\n",
    "#Выполним односторонний t-тест для независимых выборок\n",
    "results = st.ttest_ind(\n",
    "   with_subscription_df['duration'], \n",
    "   no_subscription_df['duration'], \n",
    "    equal_var=True,  \n",
    "    alternative='greater'\n",
    ")\n",
    "\n",
    "alpha = 0.05\n",
    "\n",
    "print(f'P-значение: {results.pvalue}')\n",
    "\n",
    "if results.pvalue < alpha:\n",
    "    print('Отвергаем нулевую гипотезу: пользователи с подпиской тратят больше времени на поездки.')\n",
    "else:\n",
    "    print('Не удалось отвергнуть нулевую гипотезу: недостаточно доказательств, что пользователи с подпиской тратят больше времени на поездки.')"
   ]
  },
  {
   "cell_type": "markdown",
   "id": "8f7ab1ce",
   "metadata": {},
   "source": [
    "Вывод:\n",
    "После проведения одностороннего t-теста для независимых выборок были получены следующие результаты:\n",
    "P-значение оказалось меньше уровня значимости (0.05), что позволяет отвергнуть нулевую гипотезу.\n",
    "Таким образом, мы можем сделать вывод, что пользователи с подпиской действительно тратят больше времени на поездки, чем пользователи без подписки.\n",
    "Это означает, что подписчики являются более \"выгодными\" с точки зрения времени использования сервиса, что может указывать на их большую вовлеченность и лояльность к сервису. Данный вывод может быть полезен для продакт-менеджеров при разработке стратегий для увеличения числа подписчиков."
   ]
  },
  {
   "cell_type": "markdown",
   "id": "48c845de",
   "metadata": {},
   "source": [
    "**6.2 Среднее расстояние пользователей с подпиской не превышает 3130 метров?**"
   ]
  },
  {
   "cell_type": "markdown",
   "id": "f556f60f",
   "metadata": {},
   "source": [
    "**Нулевая гипотеза (H0):** Среднее расстояние, которое проезжают пользователи с подпиской, не превышает 3130 метров.\n",
    "\n",
    "**Альтернативная гипотеза (H1):** Среднее расстояние, которое проезжают пользователи с подпиской, превышает 3130 метров.\n",
    "\n",
    "Здесь можно использовать одновыборочный t-тест (one-sample t-test) для проверки среднего значения выборки (расстояний для пользователей с подпиской) относительно известного значения (3130 м)."
   ]
  },
  {
   "cell_type": "code",
   "execution_count": 39,
   "id": "f2225bd9",
   "metadata": {
    "scrolled": true
   },
   "outputs": [
    {
     "name": "stdout",
     "output_type": "stream",
     "text": [
      "p-значение: 0.92\n",
      "Не удалось отвергнуть нулевую гипотезу: среднее расстояние не превышает 3130 метров\n"
     ]
    }
   ],
   "source": [
    "hypothetical_mean = 3130\n",
    "\n",
    "results = st.ttest_1samp(\n",
    "    with_subscription_df['distance'],\n",
    "    hypothetical_mean,\n",
    "    alternative='greater')\n",
    "\n",
    "print(f'p-значение: {results.pvalue.round(2)}')\n",
    "\n",
    "alpha = 0.05\n",
    "\n",
    "if results.pvalue < alpha:\n",
    "    print('Отвергаем нулевую гипотезу: среднее расстояние превышает 3130 метров')\n",
    "else:\n",
    "    print('Не удалось отвергнуть нулевую гипотезу: среднее расстояние не превышает 3130 метров')\n"
   ]
  },
  {
   "cell_type": "markdown",
   "id": "e4c9f08a",
   "metadata": {},
   "source": [
    "Вывод:\n",
    "Нельзя отвергнуть нулевую гипотезу и заключаю, что нет достаточных статистических оснований утверждать, что среднее расстояние превышает 3130 метров. В этом случае можно предположить, что пользователи с подпиской не отличаются в этом отношении от оптимального значения в 3130 метров или даже меньше."
   ]
  },
  {
   "cell_type": "markdown",
   "id": "8ce3f796",
   "metadata": {},
   "source": [
    "**6.3 Помесячная выручка от пользователей с подпиской по месяцам выше, чем выручка от пользователей без подписки?**"
   ]
  },
  {
   "cell_type": "markdown",
   "id": "fff0dfa1",
   "metadata": {},
   "source": [
    "**Нулевая гипотеза (H0):** Среднее время поездки пользователей с подпиской (ultra) не отличается от среднего времени поездки пользователей без подписки (free).\n",
    "\n",
    "**Альтернативная гипотеза (H1):** Среднее время поездки пользователей с подпиской (ultra) больше среднего времени поездки пользователей без подписки (free).\n"
   ]
  },
  {
   "cell_type": "code",
   "execution_count": 40,
   "id": "714cd514",
   "metadata": {},
   "outputs": [
    {
     "name": "stdout",
     "output_type": "stream",
     "text": [
      "p-value: 1.2804098316645618e-34\n",
      "Отвергаем нулевую гипотезу: пользователи с подпиской тратят больше времени на поездки.\n"
     ]
    }
   ],
   "source": [
    "duration_free = no_subscription_df['duration']\n",
    "duration_ultra = with_subscription_df['duration']\n",
    "\n",
    "test_result = st.ttest_ind(duration_ultra,\n",
    "             duration_free,\n",
    "             alternative='greater')\n",
    "\n",
    "print(f'p-value: {test_result.pvalue}')\n",
    "if test_result.pvalue < 0.05:\n",
    "    print('Отвергаем нулевую гипотезу: пользователи с подпиской тратят больше времени на поездки.')\n",
    "else:\n",
    "    print('Не удалось отвергнуть нулевую гипотезу: пользователи с подпиской не тратят больше времени на поездки.')"
   ]
  },
  {
   "cell_type": "markdown",
   "id": "c3f467ba",
   "metadata": {},
   "source": [
    "Вывод:\n",
    "Нулевая гипотеза отвергнута, есть основания утверждать, что средняя месячная выручка от пользователей с подпиской больше, чем средняя месячная выручка от пользователей без подписки, при установленном уровне значимости в 5 %."
   ]
  },
  {
   "cell_type": "markdown",
   "id": "9a8f117a",
   "metadata": {},
   "source": [
    "**6.4.Представьте такую ситуацию: техническая команда сервиса обновила сервера, с которыми взаимодействует мобильное приложение. Она надеется, что из-за этого количество обращений в техподдержку значимо снизилось. Некоторый файл содержит для каждого пользователя данные о количестве обращений до обновления и после него. Какой тест вам понадобился бы для проверки этой гипотезы?**"
   ]
  },
  {
   "cell_type": "markdown",
   "id": "16cd8a24",
   "metadata": {},
   "source": [
    "Если списки уникальных пользователей в обеих выборках совпадают, то выборки считаются зависимыми, и для проверки гипотезы следует использовать парный t-тест: st.ttest_rel(before, after, alternative='less').\n",
    "\n",
    "Если же списки уникальных пользователей не совпадают, то выборки считаются независимыми. В этом случае для проверки гипотезы используется независимый t-тест: st.ttest_ind(before, after, equal_var=False, alternative='less'). Здесь equal_var=False указывает на то, что выборки имеют разную дисперсию, а параметр alternative='less' используется, так как основная гипотеза отвергается, если количество обращений до обновления было меньше, чем после."
   ]
  },
  {
   "cell_type": "markdown",
   "id": "dd6c8d67",
   "metadata": {},
   "source": [
    "Вывод:Анализ всех проведенных тестов показывает, что пользователи с подпиской более активны, проводят больше времени в поездках и приносят больше выручки. Следовательно, стратегия увеличения числа пользователей с подпиской может быть оправдана, при условии, что она компенсирует дополнительные расходы, связанные с обслуживанием самокатов."
   ]
  },
  {
   "cell_type": "markdown",
   "id": "3a9d02de",
   "metadata": {},
   "source": [
    "**Общий вывод:**\n",
    "\n",
    "Анализ аудитории:\n",
    "\n",
    "Основная часть пользователей сосредоточена в крупных городах, что указывает на приоритетные регионы для компании. Это позволяет предположить, что основная часть выручки формируется в этих городах.\n",
    "Большинство пользователей находятся в возрасте 20-30 лет. Это говорит о популярности сервиса среди более молодой аудитории, которая, возможно, более активна и мобильна.\n",
    "\n",
    "Соотношение подписчиков и пользователей без подписки:\n",
    "\n",
    "45.6% пользователей имеют подписку, что свидетельствует о популярности платных тарифов и их выгоде для пользователей. Большая часть пользователей по-прежнему предпочитает пользоваться сервисом без подписки, однако доля подписчиков достаточно высока, чтобы сделать ставку на развитие и улучшение платных тарифов.\n",
    "Анализ поездок:\n",
    "\n",
    "Пользователи сервиса в среднем совершают поездки на расстояние около 3100 метров, независимо от наличия подписки. Однако пользователи с подпиской склонны тратить немного больше времени и преодолевать большие расстояния, что указывает на более интенсивное использование сервиса этой группой.\n",
    "Средняя продолжительность поездки составляет от 15 до 22 минут, что указывает на популярность краткосрочного использования сервиса для повседневных нужд.\n",
    "\n",
    "Объединение данных и поведение двух групп пользователей:\n",
    "\n",
    "Визуализация и статистический анализ показали, что пользователи с подпиской склонны к более длительным и протяженным поездкам. Это указывает на то, что подписка стимулирует пользователей использовать сервис чаще и интенсивнее.\n",
    "Распределение расстояний у пользователей без подписки имеет большую дисперсию, что говорит о более разнообразных по длине поездках среди этой группы.\n",
    "\n",
    "Подсчет выручки:\n",
    "\n",
    "Общая выручка компании от аренды самокатов за год составила 3 878 641 руб. Данная сумма включает в себя доход как от платных тарифов, так и от оплаты за разовые поездки.\n",
    "\n",
    "Гипотезы и выводы:\n",
    "\n",
    "В результате анализа и проверки гипотез было выявлено, что пользователи с подпиской действительно тратят больше времени на поездки по сравнению с пользователями без подписки. Это говорит о том, что подписка делает сервис более привлекательным для длительного и более частого использования.\n"
   ]
  },
  {
   "cell_type": "markdown",
   "id": "f3dae669",
   "metadata": {},
   "source": [
    "**Рекомендации по развитию сервиса аренды самокатов:**\n",
    "\n",
    "- Расширение услуг в крупных городах: Так как основная часть пользователей находится в крупных городах, стоит рассмотреть возможность расширения сети аренды в этих регионах, особенно в районах с высокой концентрацией молодых людей, таких как университеты и бизнес-центры.\n",
    "\n",
    "- Разработка новых тарифных планов: С учетом того, что почти половина пользователей выбрала подписку, можно предложить дополнительные тарифные планы, которые позволят удовлетворить потребности различных групп пользователей, например, семейные планы или тарифы для групповых поездок.\n",
    "\n",
    "- Привлечение пользователей без подписки: Разработать программы лояльности для пользователей без подписки, стимулирующие их к более частому использованию сервиса или переходу на подписку. Например, бонусы за количество поездок или скидки на подписку после определенного количества разовых поездок.\n",
    "\n",
    "- Оптимизация маршрутов и мест размещения самокатов: Провести анализ наиболее популярных маршрутов и стратегически разместить самокаты в местах, где наблюдается высокая интенсивность поездок. Это позволит сделать сервис более доступным и удобным."
   ]
  },
  {
   "cell_type": "code",
   "execution_count": null,
   "id": "6ed75984",
   "metadata": {},
   "outputs": [],
   "source": []
  }
 ],
 "metadata": {
  "ExecuteTimeLog": [
   {
    "duration": 47,
    "start_time": "2024-09-11T18:22:03.652Z"
   },
   {
    "duration": 1284,
    "start_time": "2024-09-11T18:22:14.942Z"
   },
   {
    "duration": 297,
    "start_time": "2024-09-11T18:22:16.228Z"
   },
   {
    "duration": 10,
    "start_time": "2024-09-11T18:22:16.526Z"
   },
   {
    "duration": 22,
    "start_time": "2024-09-11T18:22:16.538Z"
   },
   {
    "duration": 6,
    "start_time": "2024-09-11T18:22:16.562Z"
   },
   {
    "duration": 12,
    "start_time": "2024-09-11T18:22:21.732Z"
   },
   {
    "duration": 12,
    "start_time": "2024-09-11T18:24:19.755Z"
   },
   {
    "duration": 4,
    "start_time": "2024-09-11T18:25:21.695Z"
   },
   {
    "duration": 8,
    "start_time": "2024-09-11T18:27:22.978Z"
   },
   {
    "duration": 10,
    "start_time": "2024-09-11T18:28:12.193Z"
   },
   {
    "duration": 9,
    "start_time": "2024-09-11T18:32:55.093Z"
   },
   {
    "duration": 10,
    "start_time": "2024-09-11T18:32:59.525Z"
   },
   {
    "duration": 6,
    "start_time": "2024-09-11T18:34:39.570Z"
   },
   {
    "duration": 5,
    "start_time": "2024-09-11T18:34:43.520Z"
   },
   {
    "duration": 1084,
    "start_time": "2024-09-11T18:35:24.650Z"
   },
   {
    "duration": 67,
    "start_time": "2024-09-11T18:35:25.736Z"
   },
   {
    "duration": 12,
    "start_time": "2024-09-11T18:35:25.804Z"
   },
   {
    "duration": 23,
    "start_time": "2024-09-11T18:35:25.817Z"
   },
   {
    "duration": 7,
    "start_time": "2024-09-11T18:35:25.842Z"
   },
   {
    "duration": 33,
    "start_time": "2024-09-11T18:35:25.850Z"
   },
   {
    "duration": 8,
    "start_time": "2024-09-11T18:35:25.885Z"
   },
   {
    "duration": 9,
    "start_time": "2024-09-11T18:35:25.894Z"
   },
   {
    "duration": 10,
    "start_time": "2024-09-11T18:35:25.905Z"
   },
   {
    "duration": 6,
    "start_time": "2024-09-11T18:35:25.916Z"
   },
   {
    "duration": 6,
    "start_time": "2024-09-11T18:35:30.990Z"
   },
   {
    "duration": 12,
    "start_time": "2024-09-11T18:36:37.669Z"
   },
   {
    "duration": 6,
    "start_time": "2024-09-11T18:36:40.724Z"
   },
   {
    "duration": 8,
    "start_time": "2024-09-11T18:38:26.679Z"
   },
   {
    "duration": 4,
    "start_time": "2024-09-11T18:38:35.716Z"
   },
   {
    "duration": 4,
    "start_time": "2024-09-11T18:39:55.434Z"
   },
   {
    "duration": 7,
    "start_time": "2024-09-11T18:40:07.770Z"
   },
   {
    "duration": 4,
    "start_time": "2024-09-11T18:41:10.335Z"
   },
   {
    "duration": 59,
    "start_time": "2024-09-11T18:45:11.427Z"
   },
   {
    "duration": 128,
    "start_time": "2024-09-11T18:50:24.426Z"
   },
   {
    "duration": 137,
    "start_time": "2024-09-11T18:50:55.384Z"
   },
   {
    "duration": 137,
    "start_time": "2024-09-11T18:53:06.991Z"
   },
   {
    "duration": 303,
    "start_time": "2024-09-11T18:53:27.792Z"
   },
   {
    "duration": 133,
    "start_time": "2024-09-11T18:54:59.795Z"
   },
   {
    "duration": 54,
    "start_time": "2024-09-11T18:56:08.497Z"
   },
   {
    "duration": 3,
    "start_time": "2024-09-11T18:56:46.622Z"
   },
   {
    "duration": 72,
    "start_time": "2024-09-11T18:57:10.915Z"
   },
   {
    "duration": 154,
    "start_time": "2024-09-11T19:04:26.304Z"
   },
   {
    "duration": 153,
    "start_time": "2024-09-11T19:05:09.184Z"
   },
   {
    "duration": 142,
    "start_time": "2024-09-11T19:06:03.354Z"
   },
   {
    "duration": 213,
    "start_time": "2024-09-11T19:06:19.340Z"
   },
   {
    "duration": 72,
    "start_time": "2024-09-11T19:06:56.926Z"
   },
   {
    "duration": 191,
    "start_time": "2024-09-11T19:07:17.811Z"
   },
   {
    "duration": 93,
    "start_time": "2024-09-11T19:07:51.417Z"
   },
   {
    "duration": 78,
    "start_time": "2024-09-11T19:08:50.443Z"
   },
   {
    "duration": 54,
    "start_time": "2024-09-11T19:09:27.200Z"
   },
   {
    "duration": 190,
    "start_time": "2024-09-11T19:09:47.303Z"
   },
   {
    "duration": 198,
    "start_time": "2024-09-11T19:09:51.200Z"
   },
   {
    "duration": 191,
    "start_time": "2024-09-11T19:10:52.073Z"
   },
   {
    "duration": 209,
    "start_time": "2024-09-11T19:11:08.010Z"
   },
   {
    "duration": 66,
    "start_time": "2024-09-14T08:20:46.037Z"
   },
   {
    "duration": 58,
    "start_time": "2024-09-14T08:20:51.988Z"
   },
   {
    "duration": 41,
    "start_time": "2024-09-14T08:21:36.636Z"
   },
   {
    "duration": 1305,
    "start_time": "2024-09-14T08:21:55.095Z"
   },
   {
    "duration": 409,
    "start_time": "2024-09-14T08:21:56.402Z"
   },
   {
    "duration": 11,
    "start_time": "2024-09-14T08:21:56.812Z"
   },
   {
    "duration": 25,
    "start_time": "2024-09-14T08:21:56.825Z"
   },
   {
    "duration": 8,
    "start_time": "2024-09-14T08:21:56.851Z"
   },
   {
    "duration": 18,
    "start_time": "2024-09-14T08:21:56.860Z"
   },
   {
    "duration": 16,
    "start_time": "2024-09-14T08:21:56.879Z"
   },
   {
    "duration": 17,
    "start_time": "2024-09-14T08:21:56.896Z"
   },
   {
    "duration": 11,
    "start_time": "2024-09-14T08:21:56.914Z"
   },
   {
    "duration": 4,
    "start_time": "2024-09-14T08:21:56.927Z"
   },
   {
    "duration": 166,
    "start_time": "2024-09-14T08:21:56.933Z"
   },
   {
    "duration": 83,
    "start_time": "2024-09-14T08:21:57.100Z"
   },
   {
    "duration": 161,
    "start_time": "2024-09-14T08:21:57.185Z"
   },
   {
    "duration": 206,
    "start_time": "2024-09-14T08:21:57.348Z"
   },
   {
    "duration": 211,
    "start_time": "2024-09-14T08:21:57.556Z"
   },
   {
    "duration": 9,
    "start_time": "2024-09-14T08:21:57.769Z"
   },
   {
    "duration": 2,
    "start_time": "2024-09-14T08:21:57.780Z"
   },
   {
    "duration": 10,
    "start_time": "2024-09-14T08:22:05.862Z"
   },
   {
    "duration": 8,
    "start_time": "2024-09-14T08:25:43.867Z"
   },
   {
    "duration": 64,
    "start_time": "2024-09-14T08:28:34.271Z"
   },
   {
    "duration": 3,
    "start_time": "2024-09-14T08:28:34.812Z"
   },
   {
    "duration": 10,
    "start_time": "2024-09-14T08:29:29.358Z"
   },
   {
    "duration": 8,
    "start_time": "2024-09-14T08:30:13.654Z"
   },
   {
    "duration": 8,
    "start_time": "2024-09-14T08:31:01.335Z"
   },
   {
    "duration": 8,
    "start_time": "2024-09-14T08:31:05.600Z"
   },
   {
    "duration": 18,
    "start_time": "2024-09-14T08:31:15.192Z"
   },
   {
    "duration": 93,
    "start_time": "2024-09-14T08:31:41.729Z"
   },
   {
    "duration": 16,
    "start_time": "2024-09-14T08:31:48.198Z"
   },
   {
    "duration": 16,
    "start_time": "2024-09-14T08:32:11.998Z"
   },
   {
    "duration": 23,
    "start_time": "2024-09-14T08:32:42.613Z"
   },
   {
    "duration": 17,
    "start_time": "2024-09-14T08:33:08.589Z"
   },
   {
    "duration": 16,
    "start_time": "2024-09-14T08:33:25.602Z"
   },
   {
    "duration": 59,
    "start_time": "2024-09-14T08:34:26.883Z"
   },
   {
    "duration": 68,
    "start_time": "2024-09-14T08:34:33.528Z"
   },
   {
    "duration": 18,
    "start_time": "2024-09-14T08:34:40.806Z"
   },
   {
    "duration": 274,
    "start_time": "2024-09-14T08:37:24.489Z"
   },
   {
    "duration": 240,
    "start_time": "2024-09-14T08:38:17.250Z"
   },
   {
    "duration": 333,
    "start_time": "2024-09-14T08:38:33.277Z"
   },
   {
    "duration": 252,
    "start_time": "2024-09-14T08:38:58.222Z"
   },
   {
    "duration": 268,
    "start_time": "2024-09-14T08:39:30.792Z"
   },
   {
    "duration": 22,
    "start_time": "2024-09-14T09:10:11.629Z"
   },
   {
    "duration": 828,
    "start_time": "2024-09-14T09:11:35.772Z"
   },
   {
    "duration": 21,
    "start_time": "2024-09-14T09:12:06.605Z"
   },
   {
    "duration": 807,
    "start_time": "2024-09-14T09:12:10.124Z"
   },
   {
    "duration": 1015,
    "start_time": "2024-09-14T09:13:12.950Z"
   },
   {
    "duration": 61,
    "start_time": "2024-09-14T09:14:07.474Z"
   },
   {
    "duration": 1089,
    "start_time": "2024-09-14T09:14:24.808Z"
   },
   {
    "duration": 401,
    "start_time": "2024-09-14T09:14:25.899Z"
   },
   {
    "duration": 11,
    "start_time": "2024-09-14T09:14:26.302Z"
   },
   {
    "duration": 27,
    "start_time": "2024-09-14T09:14:26.315Z"
   },
   {
    "duration": 7,
    "start_time": "2024-09-14T09:14:26.343Z"
   },
   {
    "duration": 7,
    "start_time": "2024-09-14T09:14:26.351Z"
   },
   {
    "duration": 8,
    "start_time": "2024-09-14T09:14:26.360Z"
   },
   {
    "duration": 10,
    "start_time": "2024-09-14T09:14:26.369Z"
   },
   {
    "duration": 10,
    "start_time": "2024-09-14T09:14:26.380Z"
   },
   {
    "duration": 33,
    "start_time": "2024-09-14T09:14:26.393Z"
   },
   {
    "duration": 168,
    "start_time": "2024-09-14T09:14:26.427Z"
   },
   {
    "duration": 86,
    "start_time": "2024-09-14T09:14:26.596Z"
   },
   {
    "duration": 165,
    "start_time": "2024-09-14T09:14:26.683Z"
   },
   {
    "duration": 208,
    "start_time": "2024-09-14T09:14:26.849Z"
   },
   {
    "duration": 208,
    "start_time": "2024-09-14T09:14:27.059Z"
   },
   {
    "duration": 17,
    "start_time": "2024-09-14T09:14:27.269Z"
   },
   {
    "duration": 18,
    "start_time": "2024-09-14T09:14:27.287Z"
   },
   {
    "duration": 36,
    "start_time": "2024-09-14T09:14:27.307Z"
   },
   {
    "duration": 283,
    "start_time": "2024-09-14T09:14:27.344Z"
   },
   {
    "duration": 300,
    "start_time": "2024-09-14T09:14:27.629Z"
   },
   {
    "duration": 21,
    "start_time": "2024-09-14T09:14:27.931Z"
   },
   {
    "duration": 1054,
    "start_time": "2024-09-14T09:14:29.514Z"
   },
   {
    "duration": 16,
    "start_time": "2024-09-14T09:18:17.982Z"
   },
   {
    "duration": 16,
    "start_time": "2024-09-14T09:18:36.122Z"
   },
   {
    "duration": 4,
    "start_time": "2024-09-14T09:19:23.659Z"
   },
   {
    "duration": 4,
    "start_time": "2024-09-14T09:21:05.312Z"
   },
   {
    "duration": 15,
    "start_time": "2024-09-14T09:21:52.657Z"
   },
   {
    "duration": 49,
    "start_time": "2024-09-15T19:04:29.800Z"
   },
   {
    "duration": 1363,
    "start_time": "2024-09-15T19:04:44.645Z"
   },
   {
    "duration": 285,
    "start_time": "2024-09-15T19:04:46.011Z"
   },
   {
    "duration": 13,
    "start_time": "2024-09-15T19:04:46.297Z"
   },
   {
    "duration": 87,
    "start_time": "2024-09-15T19:04:46.313Z"
   },
   {
    "duration": 57,
    "start_time": "2024-09-15T19:04:46.402Z"
   },
   {
    "duration": 25,
    "start_time": "2024-09-15T19:04:46.461Z"
   },
   {
    "duration": 44,
    "start_time": "2024-09-15T19:04:46.487Z"
   },
   {
    "duration": 32,
    "start_time": "2024-09-15T19:04:46.533Z"
   },
   {
    "duration": 15,
    "start_time": "2024-09-15T19:04:46.567Z"
   },
   {
    "duration": 39,
    "start_time": "2024-09-15T19:04:46.584Z"
   },
   {
    "duration": 188,
    "start_time": "2024-09-15T19:04:46.625Z"
   },
   {
    "duration": 95,
    "start_time": "2024-09-15T19:04:46.814Z"
   },
   {
    "duration": 167,
    "start_time": "2024-09-15T19:04:46.911Z"
   },
   {
    "duration": 225,
    "start_time": "2024-09-15T19:04:47.080Z"
   },
   {
    "duration": 236,
    "start_time": "2024-09-15T19:04:47.307Z"
   },
   {
    "duration": 26,
    "start_time": "2024-09-15T19:04:47.545Z"
   },
   {
    "duration": 35,
    "start_time": "2024-09-15T19:04:47.573Z"
   },
   {
    "duration": 28,
    "start_time": "2024-09-15T19:04:47.610Z"
   },
   {
    "duration": 280,
    "start_time": "2024-09-15T19:04:47.640Z"
   },
   {
    "duration": 309,
    "start_time": "2024-09-15T19:04:47.922Z"
   },
   {
    "duration": 18,
    "start_time": "2024-09-15T19:04:48.232Z"
   },
   {
    "duration": 103,
    "start_time": "2024-09-15T19:04:48.252Z"
   },
   {
    "duration": 0,
    "start_time": "2024-09-15T19:04:48.561Z"
   },
   {
    "duration": 14,
    "start_time": "2024-09-15T19:11:45.669Z"
   },
   {
    "duration": 16,
    "start_time": "2024-09-15T19:14:01.658Z"
   },
   {
    "duration": 13,
    "start_time": "2024-09-15T19:26:44.307Z"
   },
   {
    "duration": 20,
    "start_time": "2024-09-15T19:29:27.668Z"
   },
   {
    "duration": 3,
    "start_time": "2024-09-15T19:30:31.776Z"
   },
   {
    "duration": 3,
    "start_time": "2024-09-15T19:30:37.518Z"
   },
   {
    "duration": 3,
    "start_time": "2024-09-15T19:30:46.847Z"
   },
   {
    "duration": 4,
    "start_time": "2024-09-15T19:30:49.537Z"
   },
   {
    "duration": 18,
    "start_time": "2024-09-15T19:31:07.091Z"
   },
   {
    "duration": 14,
    "start_time": "2024-09-15T19:34:01.067Z"
   },
   {
    "duration": 3,
    "start_time": "2024-09-15T19:35:53.168Z"
   },
   {
    "duration": 3,
    "start_time": "2024-09-15T19:36:32.087Z"
   },
   {
    "duration": 16,
    "start_time": "2024-09-15T19:42:38.273Z"
   },
   {
    "duration": 4,
    "start_time": "2024-09-15T19:48:41.830Z"
   },
   {
    "duration": 201,
    "start_time": "2024-09-15T19:49:19.484Z"
   },
   {
    "duration": 205,
    "start_time": "2024-09-15T19:49:32.333Z"
   },
   {
    "duration": 18,
    "start_time": "2024-09-15T19:50:40.330Z"
   },
   {
    "duration": 939,
    "start_time": "2024-09-15T19:54:12.170Z"
   },
   {
    "duration": 1171,
    "start_time": "2024-09-15T19:54:31.745Z"
   },
   {
    "duration": 925,
    "start_time": "2024-09-15T19:55:12.549Z"
   },
   {
    "duration": 16,
    "start_time": "2024-09-15T19:55:34.640Z"
   },
   {
    "duration": 4,
    "start_time": "2024-09-15T19:55:39.498Z"
   },
   {
    "duration": 273,
    "start_time": "2024-09-15T19:55:43.300Z"
   },
   {
    "duration": 16,
    "start_time": "2024-09-15T19:56:16.338Z"
   },
   {
    "duration": 5,
    "start_time": "2024-09-15T19:56:19.720Z"
   },
   {
    "duration": 972,
    "start_time": "2024-09-15T19:56:27.451Z"
   },
   {
    "duration": 15,
    "start_time": "2024-09-15T19:56:45.552Z"
   },
   {
    "duration": 210,
    "start_time": "2024-09-15T19:56:50.543Z"
   },
   {
    "duration": 4,
    "start_time": "2024-09-15T20:04:16.227Z"
   },
   {
    "duration": 4,
    "start_time": "2024-09-15T20:05:53.682Z"
   },
   {
    "duration": 224,
    "start_time": "2024-09-15T20:08:36.533Z"
   },
   {
    "duration": 208,
    "start_time": "2024-09-15T20:09:23.764Z"
   },
   {
    "duration": 213,
    "start_time": "2024-09-15T20:10:22.239Z"
   },
   {
    "duration": 219,
    "start_time": "2024-09-15T20:10:32.750Z"
   },
   {
    "duration": 50,
    "start_time": "2024-09-16T19:40:30.485Z"
   },
   {
    "duration": 1462,
    "start_time": "2024-09-16T19:40:51.532Z"
   },
   {
    "duration": 290,
    "start_time": "2024-09-16T19:40:52.995Z"
   },
   {
    "duration": 12,
    "start_time": "2024-09-16T19:40:53.287Z"
   },
   {
    "duration": 49,
    "start_time": "2024-09-16T19:40:53.301Z"
   },
   {
    "duration": 8,
    "start_time": "2024-09-16T19:40:53.352Z"
   },
   {
    "duration": 7,
    "start_time": "2024-09-16T19:40:53.361Z"
   },
   {
    "duration": 8,
    "start_time": "2024-09-16T19:40:53.370Z"
   },
   {
    "duration": 12,
    "start_time": "2024-09-16T19:40:53.380Z"
   },
   {
    "duration": 11,
    "start_time": "2024-09-16T19:40:53.420Z"
   },
   {
    "duration": 6,
    "start_time": "2024-09-16T19:40:53.433Z"
   },
   {
    "duration": 227,
    "start_time": "2024-09-16T19:40:53.440Z"
   },
   {
    "duration": 89,
    "start_time": "2024-09-16T19:40:53.668Z"
   },
   {
    "duration": 168,
    "start_time": "2024-09-16T19:40:53.759Z"
   },
   {
    "duration": 217,
    "start_time": "2024-09-16T19:40:53.931Z"
   },
   {
    "duration": 214,
    "start_time": "2024-09-16T19:40:54.149Z"
   },
   {
    "duration": 19,
    "start_time": "2024-09-16T19:40:54.364Z"
   },
   {
    "duration": 18,
    "start_time": "2024-09-16T19:40:54.385Z"
   },
   {
    "duration": 19,
    "start_time": "2024-09-16T19:40:54.420Z"
   },
   {
    "duration": 293,
    "start_time": "2024-09-16T19:40:54.441Z"
   },
   {
    "duration": 310,
    "start_time": "2024-09-16T19:40:54.736Z"
   },
   {
    "duration": 18,
    "start_time": "2024-09-16T19:40:55.048Z"
   },
   {
    "duration": 3,
    "start_time": "2024-09-16T19:40:55.068Z"
   },
   {
    "duration": 25,
    "start_time": "2024-09-16T19:40:55.073Z"
   },
   {
    "duration": 38,
    "start_time": "2024-09-16T19:40:55.100Z"
   },
   {
    "duration": 4,
    "start_time": "2024-09-16T19:40:55.140Z"
   },
   {
    "duration": 302,
    "start_time": "2024-09-16T19:40:55.146Z"
   },
   {
    "duration": 207,
    "start_time": "2024-09-16T19:41:14.346Z"
   },
   {
    "duration": 203,
    "start_time": "2024-09-16T19:41:29.030Z"
   },
   {
    "duration": 7,
    "start_time": "2024-09-16T19:51:24.590Z"
   },
   {
    "duration": 9,
    "start_time": "2024-09-16T19:51:39.970Z"
   },
   {
    "duration": 11,
    "start_time": "2024-09-16T19:52:50.418Z"
   },
   {
    "duration": 12,
    "start_time": "2024-09-16T19:53:19.903Z"
   },
   {
    "duration": 12,
    "start_time": "2024-09-16T19:55:45.833Z"
   },
   {
    "duration": 6,
    "start_time": "2024-09-16T20:00:19.941Z"
   },
   {
    "duration": 10,
    "start_time": "2024-09-16T20:00:25.245Z"
   },
   {
    "duration": 9,
    "start_time": "2024-09-16T20:00:34.911Z"
   },
   {
    "duration": 8,
    "start_time": "2024-09-16T20:02:24.184Z"
   },
   {
    "duration": 8,
    "start_time": "2024-09-16T20:05:44.533Z"
   },
   {
    "duration": 8,
    "start_time": "2024-09-16T20:06:28.951Z"
   },
   {
    "duration": 264,
    "start_time": "2024-09-16T20:22:17.547Z"
   },
   {
    "duration": 5,
    "start_time": "2024-09-16T20:33:18.185Z"
   },
   {
    "duration": 54,
    "start_time": "2024-09-16T20:39:51.273Z"
   },
   {
    "duration": 5,
    "start_time": "2024-09-16T20:42:45.890Z"
   },
   {
    "duration": 5,
    "start_time": "2024-09-16T20:44:33.978Z"
   },
   {
    "duration": 7,
    "start_time": "2024-09-16T20:44:43.794Z"
   },
   {
    "duration": 7,
    "start_time": "2024-09-16T20:44:50.782Z"
   },
   {
    "duration": 6,
    "start_time": "2024-09-16T20:45:02.330Z"
   },
   {
    "duration": 6,
    "start_time": "2024-09-16T20:45:13.016Z"
   },
   {
    "duration": 100,
    "start_time": "2024-09-16T20:45:39.000Z"
   },
   {
    "duration": 5,
    "start_time": "2024-09-16T20:47:48.269Z"
   },
   {
    "duration": 6,
    "start_time": "2024-09-16T20:48:19.022Z"
   },
   {
    "duration": 6,
    "start_time": "2024-09-16T20:48:25.705Z"
   },
   {
    "duration": 63,
    "start_time": "2024-09-17T19:24:45.682Z"
   },
   {
    "duration": 45,
    "start_time": "2024-09-17T19:28:03.373Z"
   },
   {
    "duration": 1303,
    "start_time": "2024-09-17T19:28:47.066Z"
   },
   {
    "duration": 352,
    "start_time": "2024-09-17T19:28:48.371Z"
   },
   {
    "duration": 12,
    "start_time": "2024-09-17T19:28:48.725Z"
   },
   {
    "duration": 26,
    "start_time": "2024-09-17T19:28:48.738Z"
   },
   {
    "duration": 8,
    "start_time": "2024-09-17T19:28:48.766Z"
   },
   {
    "duration": 7,
    "start_time": "2024-09-17T19:28:48.775Z"
   },
   {
    "duration": 14,
    "start_time": "2024-09-17T19:28:48.783Z"
   },
   {
    "duration": 11,
    "start_time": "2024-09-17T19:28:48.798Z"
   },
   {
    "duration": 40,
    "start_time": "2024-09-17T19:28:48.811Z"
   },
   {
    "duration": 6,
    "start_time": "2024-09-17T19:28:48.853Z"
   },
   {
    "duration": 181,
    "start_time": "2024-09-17T19:28:48.860Z"
   },
   {
    "duration": 89,
    "start_time": "2024-09-17T19:28:49.042Z"
   },
   {
    "duration": 163,
    "start_time": "2024-09-17T19:28:49.132Z"
   },
   {
    "duration": 214,
    "start_time": "2024-09-17T19:28:49.297Z"
   },
   {
    "duration": 209,
    "start_time": "2024-09-17T19:28:49.513Z"
   },
   {
    "duration": 31,
    "start_time": "2024-09-17T19:28:49.723Z"
   },
   {
    "duration": 20,
    "start_time": "2024-09-17T19:28:49.756Z"
   },
   {
    "duration": 20,
    "start_time": "2024-09-17T19:28:49.777Z"
   },
   {
    "duration": 294,
    "start_time": "2024-09-17T19:28:49.798Z"
   },
   {
    "duration": 8,
    "start_time": "2024-09-17T19:28:50.094Z"
   },
   {
    "duration": 8,
    "start_time": "2024-09-17T19:28:50.103Z"
   },
   {
    "duration": 395,
    "start_time": "2024-09-17T19:28:50.113Z"
   },
   {
    "duration": 9,
    "start_time": "2024-09-17T19:28:50.509Z"
   },
   {
    "duration": 21,
    "start_time": "2024-09-17T19:28:50.519Z"
   },
   {
    "duration": 25,
    "start_time": "2024-09-17T19:28:50.542Z"
   },
   {
    "duration": 3,
    "start_time": "2024-09-17T19:28:50.569Z"
   },
   {
    "duration": 18,
    "start_time": "2024-09-17T19:28:50.573Z"
   },
   {
    "duration": 14,
    "start_time": "2024-09-17T19:28:50.593Z"
   },
   {
    "duration": 3,
    "start_time": "2024-09-17T19:28:50.609Z"
   },
   {
    "duration": 265,
    "start_time": "2024-09-17T19:28:50.614Z"
   },
   {
    "duration": 5,
    "start_time": "2024-09-17T19:28:50.881Z"
   },
   {
    "duration": 7,
    "start_time": "2024-09-17T19:28:50.888Z"
   },
   {
    "duration": 126,
    "start_time": "2024-09-17T19:28:50.896Z"
   },
   {
    "duration": 9,
    "start_time": "2024-09-17T19:29:29.343Z"
   },
   {
    "duration": 6,
    "start_time": "2024-09-17T19:30:20.503Z"
   },
   {
    "duration": 9,
    "start_time": "2024-09-17T19:49:49.139Z"
   },
   {
    "duration": 8,
    "start_time": "2024-09-17T20:47:45.082Z"
   },
   {
    "duration": 77,
    "start_time": "2024-09-17T20:47:45.092Z"
   },
   {
    "duration": 10,
    "start_time": "2024-09-17T20:47:45.170Z"
   },
   {
    "duration": 24,
    "start_time": "2024-09-17T20:47:45.181Z"
   },
   {
    "duration": 6,
    "start_time": "2024-09-17T20:47:45.207Z"
   },
   {
    "duration": 14,
    "start_time": "2024-09-17T20:47:45.214Z"
   },
   {
    "duration": 9,
    "start_time": "2024-09-17T20:47:45.229Z"
   },
   {
    "duration": 35,
    "start_time": "2024-09-17T20:47:45.241Z"
   },
   {
    "duration": 11,
    "start_time": "2024-09-17T20:47:45.278Z"
   },
   {
    "duration": 5,
    "start_time": "2024-09-17T20:47:45.290Z"
   },
   {
    "duration": 158,
    "start_time": "2024-09-17T20:47:45.296Z"
   },
   {
    "duration": 85,
    "start_time": "2024-09-17T20:47:45.455Z"
   },
   {
    "duration": 151,
    "start_time": "2024-09-17T20:47:45.542Z"
   },
   {
    "duration": 195,
    "start_time": "2024-09-17T20:47:45.695Z"
   },
   {
    "duration": 196,
    "start_time": "2024-09-17T20:47:45.892Z"
   },
   {
    "duration": 16,
    "start_time": "2024-09-17T20:47:46.089Z"
   },
   {
    "duration": 15,
    "start_time": "2024-09-17T20:47:46.106Z"
   },
   {
    "duration": 16,
    "start_time": "2024-09-17T20:47:46.123Z"
   },
   {
    "duration": 278,
    "start_time": "2024-09-17T20:47:46.140Z"
   },
   {
    "duration": 7,
    "start_time": "2024-09-17T20:47:46.420Z"
   },
   {
    "duration": 7,
    "start_time": "2024-09-17T20:47:46.429Z"
   },
   {
    "duration": 279,
    "start_time": "2024-09-17T20:47:46.437Z"
   },
   {
    "duration": 7,
    "start_time": "2024-09-17T20:47:46.718Z"
   },
   {
    "duration": 6,
    "start_time": "2024-09-17T20:47:46.727Z"
   },
   {
    "duration": 41,
    "start_time": "2024-09-17T20:47:46.735Z"
   },
   {
    "duration": 3,
    "start_time": "2024-09-17T20:47:46.778Z"
   },
   {
    "duration": 18,
    "start_time": "2024-09-17T20:47:46.782Z"
   },
   {
    "duration": 14,
    "start_time": "2024-09-17T20:47:46.802Z"
   },
   {
    "duration": 3,
    "start_time": "2024-09-17T20:47:46.817Z"
   },
   {
    "duration": 225,
    "start_time": "2024-09-17T20:47:46.821Z"
   },
   {
    "duration": 5,
    "start_time": "2024-09-17T20:47:47.048Z"
   },
   {
    "duration": 21,
    "start_time": "2024-09-17T20:47:47.055Z"
   },
   {
    "duration": 5,
    "start_time": "2024-09-17T20:47:47.078Z"
   },
   {
    "duration": 5,
    "start_time": "2024-09-17T20:55:09.884Z"
   },
   {
    "duration": 95,
    "start_time": "2024-09-18T17:08:46.668Z"
   },
   {
    "duration": 55,
    "start_time": "2024-09-18T17:28:58.557Z"
   },
   {
    "duration": 55,
    "start_time": "2024-09-18T17:29:11.150Z"
   },
   {
    "duration": 61,
    "start_time": "2024-09-18T17:34:05.492Z"
   },
   {
    "duration": 63,
    "start_time": "2024-09-18T17:34:08.374Z"
   },
   {
    "duration": 44,
    "start_time": "2024-09-18T17:38:18.232Z"
   },
   {
    "duration": 7,
    "start_time": "2024-09-18T17:40:39.850Z"
   },
   {
    "duration": 8,
    "start_time": "2024-09-18T17:40:53.927Z"
   },
   {
    "duration": 1360,
    "start_time": "2024-09-18T17:45:48.910Z"
   },
   {
    "duration": 73,
    "start_time": "2024-09-18T17:48:36.063Z"
   },
   {
    "duration": 1168,
    "start_time": "2024-09-18T17:49:07.437Z"
   },
   {
    "duration": 368,
    "start_time": "2024-09-18T17:49:08.607Z"
   },
   {
    "duration": 24,
    "start_time": "2024-09-18T17:49:08.977Z"
   },
   {
    "duration": 27,
    "start_time": "2024-09-18T17:49:09.003Z"
   },
   {
    "duration": 8,
    "start_time": "2024-09-18T17:49:09.031Z"
   },
   {
    "duration": 9,
    "start_time": "2024-09-18T17:49:09.041Z"
   },
   {
    "duration": 10,
    "start_time": "2024-09-18T17:49:09.052Z"
   },
   {
    "duration": 14,
    "start_time": "2024-09-18T17:49:09.097Z"
   },
   {
    "duration": 19,
    "start_time": "2024-09-18T17:49:09.112Z"
   },
   {
    "duration": 6,
    "start_time": "2024-09-18T17:49:09.133Z"
   },
   {
    "duration": 216,
    "start_time": "2024-09-18T17:49:09.140Z"
   },
   {
    "duration": 97,
    "start_time": "2024-09-18T17:49:09.357Z"
   },
   {
    "duration": 181,
    "start_time": "2024-09-18T17:49:09.455Z"
   },
   {
    "duration": 228,
    "start_time": "2024-09-18T17:49:09.637Z"
   },
   {
    "duration": 226,
    "start_time": "2024-09-18T17:49:09.866Z"
   },
   {
    "duration": 24,
    "start_time": "2024-09-18T17:49:10.097Z"
   },
   {
    "duration": 19,
    "start_time": "2024-09-18T17:49:10.123Z"
   },
   {
    "duration": 20,
    "start_time": "2024-09-18T17:49:10.144Z"
   },
   {
    "duration": 321,
    "start_time": "2024-09-18T17:49:10.166Z"
   },
   {
    "duration": 16,
    "start_time": "2024-09-18T17:49:10.489Z"
   },
   {
    "duration": 9,
    "start_time": "2024-09-18T17:49:10.507Z"
   },
   {
    "duration": 317,
    "start_time": "2024-09-18T17:49:10.517Z"
   },
   {
    "duration": 9,
    "start_time": "2024-09-18T17:49:10.836Z"
   },
   {
    "duration": 8,
    "start_time": "2024-09-18T17:49:10.847Z"
   },
   {
    "duration": 44,
    "start_time": "2024-09-18T17:49:10.856Z"
   },
   {
    "duration": 4,
    "start_time": "2024-09-18T17:49:10.902Z"
   },
   {
    "duration": 110,
    "start_time": "2024-09-18T17:49:10.908Z"
   },
   {
    "duration": 16,
    "start_time": "2024-09-18T17:49:11.021Z"
   },
   {
    "duration": 4,
    "start_time": "2024-09-18T17:49:11.038Z"
   },
   {
    "duration": 234,
    "start_time": "2024-09-18T17:49:11.043Z"
   },
   {
    "duration": 6,
    "start_time": "2024-09-18T17:49:11.279Z"
   },
   {
    "duration": 9,
    "start_time": "2024-09-18T17:49:11.298Z"
   },
   {
    "duration": 13,
    "start_time": "2024-09-18T17:49:11.309Z"
   },
   {
    "duration": 20,
    "start_time": "2024-09-18T17:49:20.182Z"
   },
   {
    "duration": 25,
    "start_time": "2024-09-18T17:50:17.229Z"
   },
   {
    "duration": 28,
    "start_time": "2024-09-18T17:50:46.869Z"
   },
   {
    "duration": 23,
    "start_time": "2024-09-18T17:51:07.767Z"
   },
   {
    "duration": 55,
    "start_time": "2024-09-18T17:51:43.819Z"
   },
   {
    "duration": 10,
    "start_time": "2024-09-18T17:52:58.626Z"
   },
   {
    "duration": 12,
    "start_time": "2024-09-18T17:53:11.188Z"
   },
   {
    "duration": 11,
    "start_time": "2024-09-18T17:53:28.150Z"
   },
   {
    "duration": 2,
    "start_time": "2024-09-18T17:53:46.003Z"
   },
   {
    "duration": 57,
    "start_time": "2024-09-18T17:53:55.783Z"
   },
   {
    "duration": 11,
    "start_time": "2024-09-18T17:59:33.428Z"
   },
   {
    "duration": 68,
    "start_time": "2024-09-18T18:05:03.206Z"
   },
   {
    "duration": 12,
    "start_time": "2024-09-18T18:05:22.703Z"
   },
   {
    "duration": 13,
    "start_time": "2024-09-18T18:08:26.442Z"
   },
   {
    "duration": 100,
    "start_time": "2024-09-18T18:09:59.324Z"
   },
   {
    "duration": 6,
    "start_time": "2024-09-18T18:10:38.949Z"
   },
   {
    "duration": 5,
    "start_time": "2024-09-18T18:11:52.920Z"
   },
   {
    "duration": 12,
    "start_time": "2024-09-18T18:13:27.362Z"
   },
   {
    "duration": 12,
    "start_time": "2024-09-18T18:13:39.903Z"
   },
   {
    "duration": 210,
    "start_time": "2024-09-18T18:13:51.104Z"
   },
   {
    "duration": 5,
    "start_time": "2024-09-18T18:14:01.330Z"
   },
   {
    "duration": 152,
    "start_time": "2024-09-18T18:33:33.814Z"
   },
   {
    "duration": 158,
    "start_time": "2024-09-18T18:33:49.302Z"
   },
   {
    "duration": 159,
    "start_time": "2024-09-18T18:34:05.391Z"
   },
   {
    "duration": 62,
    "start_time": "2024-09-18T18:34:32.283Z"
   },
   {
    "duration": 156,
    "start_time": "2024-09-18T18:34:42.355Z"
   },
   {
    "duration": 152,
    "start_time": "2024-09-18T18:34:50.037Z"
   },
   {
    "duration": 103,
    "start_time": "2024-09-18T18:37:32.219Z"
   },
   {
    "duration": 9,
    "start_time": "2024-09-18T18:38:50.598Z"
   },
   {
    "duration": 171,
    "start_time": "2024-09-18T18:38:56.635Z"
   },
   {
    "duration": 236,
    "start_time": "2024-09-18T18:39:14.985Z"
   },
   {
    "duration": 96,
    "start_time": "2024-09-18T18:39:23.229Z"
   },
   {
    "duration": 16,
    "start_time": "2024-09-18T18:39:31.992Z"
   },
   {
    "duration": 201,
    "start_time": "2024-09-18T18:39:36.902Z"
   },
   {
    "duration": 16,
    "start_time": "2024-09-18T18:40:17.368Z"
   },
   {
    "duration": 268,
    "start_time": "2024-09-18T18:40:32.946Z"
   },
   {
    "duration": 97,
    "start_time": "2024-09-18T18:44:08.517Z"
   },
   {
    "duration": 5,
    "start_time": "2024-09-18T18:49:19.850Z"
   },
   {
    "duration": 18,
    "start_time": "2024-09-18T18:50:41.776Z"
   },
   {
    "duration": 10,
    "start_time": "2024-09-18T18:51:37.017Z"
   },
   {
    "duration": 13,
    "start_time": "2024-09-18T18:57:28.811Z"
   },
   {
    "duration": 15,
    "start_time": "2024-09-18T18:58:09.263Z"
   },
   {
    "duration": 13,
    "start_time": "2024-09-18T18:59:46.617Z"
   },
   {
    "duration": 18,
    "start_time": "2024-09-18T19:00:09.065Z"
   },
   {
    "duration": 55,
    "start_time": "2024-09-18T19:07:53.243Z"
   },
   {
    "duration": 49,
    "start_time": "2025-04-26T12:26:47.924Z"
   },
   {
    "duration": 1214,
    "start_time": "2025-04-26T12:28:25.705Z"
   },
   {
    "duration": 59,
    "start_time": "2025-04-26T12:28:26.921Z"
   },
   {
    "duration": 25,
    "start_time": "2025-04-26T12:28:26.982Z"
   },
   {
    "duration": 29,
    "start_time": "2025-04-26T12:28:27.009Z"
   },
   {
    "duration": 13,
    "start_time": "2025-04-26T12:28:27.039Z"
   },
   {
    "duration": 39,
    "start_time": "2025-04-26T12:28:27.054Z"
   },
   {
    "duration": 25,
    "start_time": "2025-04-26T12:28:27.095Z"
   },
   {
    "duration": 22,
    "start_time": "2025-04-26T12:28:27.122Z"
   },
   {
    "duration": 19,
    "start_time": "2025-04-26T12:28:27.146Z"
   },
   {
    "duration": 212,
    "start_time": "2025-04-26T12:28:27.168Z"
   },
   {
    "duration": 10,
    "start_time": "2025-04-26T12:28:27.382Z"
   },
   {
    "duration": 17,
    "start_time": "2025-04-26T12:28:27.393Z"
   },
   {
    "duration": 40,
    "start_time": "2025-04-26T12:28:27.411Z"
   },
   {
    "duration": 12,
    "start_time": "2025-04-26T12:28:27.453Z"
   },
   {
    "duration": 174,
    "start_time": "2025-04-26T12:28:27.467Z"
   },
   {
    "duration": 95,
    "start_time": "2025-04-26T12:28:27.642Z"
   },
   {
    "duration": 157,
    "start_time": "2025-04-26T12:28:27.739Z"
   },
   {
    "duration": 213,
    "start_time": "2025-04-26T12:28:27.897Z"
   },
   {
    "duration": 215,
    "start_time": "2025-04-26T12:28:28.112Z"
   },
   {
    "duration": 259,
    "start_time": "2025-04-26T12:28:28.328Z"
   },
   {
    "duration": 4,
    "start_time": "2025-04-26T12:28:28.588Z"
   },
   {
    "duration": 50,
    "start_time": "2025-04-26T12:28:28.594Z"
   },
   {
    "duration": 24,
    "start_time": "2025-04-26T12:28:28.646Z"
   },
   {
    "duration": 52,
    "start_time": "2025-04-26T12:28:28.672Z"
   },
   {
    "duration": 285,
    "start_time": "2025-04-26T12:28:28.726Z"
   },
   {
    "duration": 9,
    "start_time": "2025-04-26T12:28:29.013Z"
   },
   {
    "duration": 22,
    "start_time": "2025-04-26T12:28:29.023Z"
   },
   {
    "duration": 392,
    "start_time": "2025-04-26T12:28:29.049Z"
   },
   {
    "duration": 10,
    "start_time": "2025-04-26T12:28:29.443Z"
   },
   {
    "duration": 18,
    "start_time": "2025-04-26T12:28:29.455Z"
   },
   {
    "duration": 35,
    "start_time": "2025-04-26T12:28:29.475Z"
   },
   {
    "duration": 29,
    "start_time": "2025-04-26T12:28:29.512Z"
   },
   {
    "duration": 25,
    "start_time": "2025-04-26T12:28:29.542Z"
   },
   {
    "duration": 24,
    "start_time": "2025-04-26T12:28:29.568Z"
   },
   {
    "duration": 24,
    "start_time": "2025-04-26T12:28:29.594Z"
   },
   {
    "duration": 20,
    "start_time": "2025-04-26T12:28:29.619Z"
   },
   {
    "duration": 227,
    "start_time": "2025-04-26T12:28:29.641Z"
   },
   {
    "duration": 6,
    "start_time": "2025-04-26T12:28:29.870Z"
   },
   {
    "duration": 38,
    "start_time": "2025-04-26T12:28:29.878Z"
   },
   {
    "duration": 38,
    "start_time": "2025-04-26T12:28:29.918Z"
   }
  ],
  "kernelspec": {
   "display_name": "Python 3 (ipykernel)",
   "language": "python",
   "name": "python3"
  },
  "language_info": {
   "codemirror_mode": {
    "name": "ipython",
    "version": 3
   },
   "file_extension": ".py",
   "mimetype": "text/x-python",
   "name": "python",
   "nbconvert_exporter": "python",
   "pygments_lexer": "ipython3",
   "version": "3.9.5"
  },
  "toc": {
   "base_numbering": 1,
   "nav_menu": {},
   "number_sections": true,
   "sideBar": true,
   "skip_h1_title": true,
   "title_cell": "Table of Contents",
   "title_sidebar": "Contents",
   "toc_cell": false,
   "toc_position": {
    "height": "calc(100% - 180px)",
    "left": "10px",
    "top": "150px",
    "width": "278.398px"
   },
   "toc_section_display": true,
   "toc_window_display": true
  }
 },
 "nbformat": 4,
 "nbformat_minor": 5
}
